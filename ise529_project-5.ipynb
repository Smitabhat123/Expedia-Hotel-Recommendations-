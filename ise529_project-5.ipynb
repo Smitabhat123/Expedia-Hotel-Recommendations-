{
 "cells": [
  {
   "cell_type": "markdown",
   "metadata": {},
   "source": [
    "# ISE-529, Final Project\n",
    "Wednesday Section<br>\n",
    "Rafael Blay (8746029470)<br>\n",
    "Smita Bhat (8974118455)<br>\n",
    "Xuejie Guo (7579682064)<br>\n",
    "Zhiyun Zhang (6986706702)"
   ]
  },
  {
   "cell_type": "code",
   "execution_count": 1,
   "metadata": {},
   "outputs": [],
   "source": [
    "# Kaggle Competition: Expedia Hotel Recommendations\n",
    "# Link: https://www.kaggle.com/c/expedia-hotel-recommendations"
   ]
  },
  {
   "cell_type": "code",
   "execution_count": 2,
   "metadata": {},
   "outputs": [],
   "source": [
    "# importing libraries\n",
    "# basic libraries\n",
    "import pandas as pd\n",
    "from pandas import Series,DataFrame\n",
    "import numpy as np\n",
    "import random as rd\n",
    "import datetime as dt\n",
    "\n",
    "# data cleaning and processing\n",
    "from sklearn.model_selection import train_test_split\n",
    "from sklearn.metrics import accuracy_score\n",
    "from sklearn.model_selection import GridSearchCV\n",
    "from sklearn.model_selection import StratifiedKFold\n",
    "from sklearn.model_selection import RandomizedSearchCV\n",
    "from sklearn.preprocessing import StandardScaler\n",
    "from sklearn.preprocessing import LabelEncoder, OneHotEncoder\n",
    "from sklearn.pipeline import Pipeline\n",
    "\n",
    "# plots\n",
    "import matplotlib.pyplot as plt\n",
    "import seaborn as sns\n",
    "sns.set_style('whitegrid')\n",
    "%matplotlib inline\n",
    "\n",
    "# machine learning models\n",
    "from sklearn.ensemble import RandomForestClassifier\n",
    "from sklearn.linear_model import LogisticRegression\n",
    "from sklearn.svm import SVC, LinearSVC\n",
    "from sklearn.neighbors import KNeighborsClassifier\n",
    "from sklearn.naive_bayes import GaussianNB\n",
    "from sklearn.tree import DecisionTreeClassifier\n",
    "from xgboost import XGBClassifier\n",
    "from sklearn.linear_model import SGDClassifier"
   ]
  },
  {
   "cell_type": "code",
   "execution_count": null,
   "metadata": {},
   "outputs": [],
   "source": [
    "# neural networks\n",
    "import tensorflow as tf\n",
    "from keras.wrappers.scikit_learn import KerasClassifier\n",
    "from keras.utils import np_utils\n",
    "import keras\n",
    "from keras.models import Sequential\n",
    "from keras.layers import Dense, Activation, Dropout\n",
    "from keras.callbacks import EarlyStopping"
   ]
  },
  {
   "cell_type": "code",
   "execution_count": 3,
   "metadata": {},
   "outputs": [],
   "source": [
    "# Code used to sample training data set\n",
    "\n",
    "# # reading only part of data, since file is too big (over 4GB)\n",
    "# filename = 'expedia-hotel-recommendations/train.csv'\n",
    "# n = sum(1 for line in open(filename)) - 1 #num records (no header)\n",
    "# s = 250000 # desired sample size\n",
    "# rd.seed(42)\n",
    "# skip = sorted(rd.sample(range(1,n+1),n-s)) #header not included\n",
    "# df = pd.read_csv(filename, skiprows=skip)\n",
    "# df.to_csv('expedia_training_sampled.csv',index=False)"
   ]
  },
  {
   "cell_type": "code",
   "execution_count": 4,
   "metadata": {},
   "outputs": [],
   "source": [
    "df = pd.read_csv(\n",
    "    'expedia-hotel-recommendations/expedia_training_sampled.csv')"
   ]
  },
  {
   "cell_type": "code",
   "execution_count": 5,
   "metadata": {},
   "outputs": [
    {
     "data": {
      "text/plain": [
       "(250000, 31)"
      ]
     },
     "execution_count": 5,
     "metadata": {},
     "output_type": "execute_result"
    }
   ],
   "source": [
    "df.shape"
   ]
  },
  {
   "cell_type": "code",
   "execution_count": 6,
   "metadata": {},
   "outputs": [
    {
     "data": {
      "text/plain": [
       "array(['date_time', 'site_name', 'posa_continent',\n",
       "       'user_location_country', 'user_location_region',\n",
       "       'user_location_city', 'orig_destination_distance', 'user_id',\n",
       "       'is_mobile', 'is_package', 'channel', 'srch_ci', 'srch_co',\n",
       "       'srch_adults_cnt', 'srch_children_cnt', 'srch_rm_cnt',\n",
       "       'srch_destination_id', 'srch_destination_type_id', 'is_booking',\n",
       "       'cnt', 'hotel_continent', 'hotel_country', 'hotel_market',\n",
       "       'hotel_cluster', 'book_period', 'site_name_new',\n",
       "       'user_location_country_new', 'channel_new',\n",
       "       'srch_destination_type_id_new', 'hotel_country_new',\n",
       "       'hotel_market_new'], dtype=object)"
      ]
     },
     "execution_count": 6,
     "metadata": {},
     "output_type": "execute_result"
    }
   ],
   "source": [
    "df.columns.values"
   ]
  },
  {
   "cell_type": "markdown",
   "metadata": {},
   "source": [
    "## Feature Engineering"
   ]
  },
  {
   "cell_type": "code",
   "execution_count": 7,
   "metadata": {},
   "outputs": [],
   "source": [
    "# Will combine srch_ci and srch_co\n",
    "# Generate column named: book_period"
   ]
  },
  {
   "cell_type": "code",
   "execution_count": 8,
   "metadata": {},
   "outputs": [
    {
     "name": "stderr",
     "output_type": "stream",
     "text": [
      "//anaconda3/lib/python3.7/site-packages/ipykernel_launcher.py:4: FutureWarning: Passing integers to fillna is deprecated, will raise a TypeError in a future version.  To retain the old behavior, pass pd.Timedelta(seconds=n) instead.\n",
      "  after removing the cwd from sys.path.\n"
     ]
    }
   ],
   "source": [
    "df.srch_ci = pd.to_datetime(df.srch_ci,format = '%Y-%m-%d')\n",
    "df.srch_co = pd.to_datetime(df.srch_co,format = '%Y-%m-%d')\n",
    "temp_book_period = (df.srch_co - df.srch_ci)\n",
    "temp_book_period = temp_book_period.fillna(0)\n",
    "df['book_period'] = temp_book_period.dt.days.astype('int16')"
   ]
  },
  {
   "cell_type": "markdown",
   "metadata": {},
   "source": [
    "## Fixing Variable Types"
   ]
  },
  {
   "cell_type": "code",
   "execution_count": 9,
   "metadata": {},
   "outputs": [
    {
     "data": {
      "text/plain": [
       "date_time                               object\n",
       "site_name                                int64\n",
       "posa_continent                           int64\n",
       "user_location_country                    int64\n",
       "user_location_region                     int64\n",
       "user_location_city                       int64\n",
       "orig_destination_distance              float64\n",
       "user_id                                  int64\n",
       "is_mobile                                int64\n",
       "is_package                               int64\n",
       "channel                                  int64\n",
       "srch_ci                         datetime64[ns]\n",
       "srch_co                         datetime64[ns]\n",
       "srch_adults_cnt                          int64\n",
       "srch_children_cnt                        int64\n",
       "srch_rm_cnt                              int64\n",
       "srch_destination_id                      int64\n",
       "srch_destination_type_id                 int64\n",
       "is_booking                               int64\n",
       "cnt                                      int64\n",
       "hotel_continent                          int64\n",
       "hotel_country                            int64\n",
       "hotel_market                             int64\n",
       "hotel_cluster                            int64\n",
       "book_period                              int16\n",
       "site_name_new                           object\n",
       "user_location_country_new               object\n",
       "channel_new                             object\n",
       "srch_destination_type_id_new            object\n",
       "hotel_country_new                       object\n",
       "hotel_market_new                        object\n",
       "dtype: object"
      ]
     },
     "execution_count": 9,
     "metadata": {},
     "output_type": "execute_result"
    }
   ],
   "source": [
    "df.dtypes"
   ]
  },
  {
   "cell_type": "code",
   "execution_count": 10,
   "metadata": {},
   "outputs": [],
   "source": [
    "# Some variables encoded as int should \n",
    "# be treated as object (categorical)\n",
    "\n",
    "# Categorical Variables\n",
    "# site_name\n",
    "# posa_continent\n",
    "# user_location_country\n",
    "# user_location_region\n",
    "# user_location_city\n",
    "# channel\n",
    "# hotel_continent\n",
    "# hotel_country\n",
    "# hotel_market\n",
    "# hotel_cluster\n",
    "# srch_destination_id\n",
    "# srch_destination_type_id"
   ]
  },
  {
   "cell_type": "code",
   "execution_count": 11,
   "metadata": {},
   "outputs": [],
   "source": [
    "df.site_name = df.site_name.astype('category')\n",
    "df.posa_continent = df.posa_continent.astype('category')\n",
    "df.user_location_country = df.user_location_country.astype(\n",
    "    'category')\n",
    "df.user_location_region = df.user_location_region.astype('category')\n",
    "df.user_location_city = df.user_location_city.astype('category')\n",
    "df.channel = df.channel.astype('category')\n",
    "df.hotel_continent = df.hotel_continent.astype('category')\n",
    "df.hotel_country = df.hotel_country.astype('category')\n",
    "df.hotel_market = df.hotel_market.astype('category')\n",
    "df.srch_destination_id = df.srch_destination_id.astype('category')\n",
    "df.srch_destination_type_id = df.srch_destination_type_id.astype(\n",
    "    'category')\n",
    "df.hotel_cluster = df.hotel_cluster.astype('category')"
   ]
  },
  {
   "cell_type": "code",
   "execution_count": 12,
   "metadata": {},
   "outputs": [
    {
     "data": {
      "text/plain": [
       "date_time                               object\n",
       "site_name                             category\n",
       "posa_continent                        category\n",
       "user_location_country                 category\n",
       "user_location_region                  category\n",
       "user_location_city                    category\n",
       "orig_destination_distance              float64\n",
       "user_id                                  int64\n",
       "is_mobile                                int64\n",
       "is_package                               int64\n",
       "channel                               category\n",
       "srch_ci                         datetime64[ns]\n",
       "srch_co                         datetime64[ns]\n",
       "srch_adults_cnt                          int64\n",
       "srch_children_cnt                        int64\n",
       "srch_rm_cnt                              int64\n",
       "srch_destination_id                   category\n",
       "srch_destination_type_id              category\n",
       "is_booking                               int64\n",
       "cnt                                      int64\n",
       "hotel_continent                       category\n",
       "hotel_country                         category\n",
       "hotel_market                          category\n",
       "hotel_cluster                         category\n",
       "book_period                              int16\n",
       "site_name_new                           object\n",
       "user_location_country_new               object\n",
       "channel_new                             object\n",
       "srch_destination_type_id_new            object\n",
       "hotel_country_new                       object\n",
       "hotel_market_new                        object\n",
       "dtype: object"
      ]
     },
     "execution_count": 12,
     "metadata": {},
     "output_type": "execute_result"
    }
   ],
   "source": [
    "df.dtypes"
   ]
  },
  {
   "cell_type": "markdown",
   "metadata": {},
   "source": [
    "## Analyzing Categorical Variables"
   ]
  },
  {
   "cell_type": "code",
   "execution_count": 13,
   "metadata": {},
   "outputs": [
    {
     "data": {
      "text/plain": [
       "43"
      ]
     },
     "execution_count": 13,
     "metadata": {},
     "output_type": "execute_result"
    }
   ],
   "source": [
    "# site_name\n",
    "temp_values = df.site_name.value_counts()/len(df)\n",
    "df_temp_values = temp_values.rename_axis(\n",
    "    'site_name').reset_index(name='percentage')\n",
    "len(df_temp_values)"
   ]
  },
  {
   "cell_type": "code",
   "execution_count": 14,
   "metadata": {},
   "outputs": [
    {
     "data": {
      "text/html": [
       "<div>\n",
       "<style scoped>\n",
       "    .dataframe tbody tr th:only-of-type {\n",
       "        vertical-align: middle;\n",
       "    }\n",
       "\n",
       "    .dataframe tbody tr th {\n",
       "        vertical-align: top;\n",
       "    }\n",
       "\n",
       "    .dataframe thead th {\n",
       "        text-align: right;\n",
       "    }\n",
       "</style>\n",
       "<table border=\"1\" class=\"dataframe\">\n",
       "  <thead>\n",
       "    <tr style=\"text-align: right;\">\n",
       "      <th></th>\n",
       "      <th>site_name</th>\n",
       "      <th>percentage</th>\n",
       "    </tr>\n",
       "  </thead>\n",
       "  <tbody>\n",
       "    <tr>\n",
       "      <th>0</th>\n",
       "      <td>2</td>\n",
       "      <td>0.632756</td>\n",
       "    </tr>\n",
       "    <tr>\n",
       "      <th>1</th>\n",
       "      <td>11</td>\n",
       "      <td>0.069056</td>\n",
       "    </tr>\n",
       "    <tr>\n",
       "      <th>2</th>\n",
       "      <td>24</td>\n",
       "      <td>0.062504</td>\n",
       "    </tr>\n",
       "    <tr>\n",
       "      <th>3</th>\n",
       "      <td>37</td>\n",
       "      <td>0.053292</td>\n",
       "    </tr>\n",
       "    <tr>\n",
       "      <th>4</th>\n",
       "      <td>34</td>\n",
       "      <td>0.046920</td>\n",
       "    </tr>\n",
       "  </tbody>\n",
       "</table>\n",
       "</div>"
      ],
      "text/plain": [
       "  site_name  percentage\n",
       "0         2    0.632756\n",
       "1        11    0.069056\n",
       "2        24    0.062504\n",
       "3        37    0.053292\n",
       "4        34    0.046920"
      ]
     },
     "execution_count": 14,
     "metadata": {},
     "output_type": "execute_result"
    }
   ],
   "source": [
    "# site_name\n",
    "temp_values = df.site_name.value_counts()/len(df)\n",
    "df_temp_values = temp_values.rename_axis(\n",
    "    'site_name').reset_index(name='percentage')\n",
    "df_temp_values[:5]"
   ]
  },
  {
   "cell_type": "code",
   "execution_count": 15,
   "metadata": {},
   "outputs": [],
   "source": [
    "# Around 60% of site_name is \"2\"\n",
    "# Will change this to dummy variable (1 if site_name == 2 else 0)"
   ]
  },
  {
   "cell_type": "code",
   "execution_count": 16,
   "metadata": {},
   "outputs": [
    {
     "data": {
      "text/plain": [
       "5"
      ]
     },
     "execution_count": 16,
     "metadata": {},
     "output_type": "execute_result"
    }
   ],
   "source": [
    "# posa_continent\n",
    "temp_values = df.posa_continent.value_counts()/len(df)\n",
    "df_temp_values = temp_values.rename_axis(\n",
    "    'posa_continent').reset_index(name='percentage')\n",
    "len(df_temp_values)"
   ]
  },
  {
   "cell_type": "code",
   "execution_count": 17,
   "metadata": {},
   "outputs": [
    {
     "data": {
      "text/html": [
       "<div>\n",
       "<style scoped>\n",
       "    .dataframe tbody tr th:only-of-type {\n",
       "        vertical-align: middle;\n",
       "    }\n",
       "\n",
       "    .dataframe tbody tr th {\n",
       "        vertical-align: top;\n",
       "    }\n",
       "\n",
       "    .dataframe thead th {\n",
       "        text-align: right;\n",
       "    }\n",
       "</style>\n",
       "<table border=\"1\" class=\"dataframe\">\n",
       "  <thead>\n",
       "    <tr style=\"text-align: right;\">\n",
       "      <th></th>\n",
       "      <th>posa_continent</th>\n",
       "      <th>percentage</th>\n",
       "    </tr>\n",
       "  </thead>\n",
       "  <tbody>\n",
       "    <tr>\n",
       "      <th>0</th>\n",
       "      <td>3</td>\n",
       "      <td>0.750324</td>\n",
       "    </tr>\n",
       "    <tr>\n",
       "      <th>1</th>\n",
       "      <td>1</td>\n",
       "      <td>0.117844</td>\n",
       "    </tr>\n",
       "    <tr>\n",
       "      <th>2</th>\n",
       "      <td>2</td>\n",
       "      <td>0.093336</td>\n",
       "    </tr>\n",
       "    <tr>\n",
       "      <th>3</th>\n",
       "      <td>4</td>\n",
       "      <td>0.031696</td>\n",
       "    </tr>\n",
       "    <tr>\n",
       "      <th>4</th>\n",
       "      <td>0</td>\n",
       "      <td>0.006800</td>\n",
       "    </tr>\n",
       "  </tbody>\n",
       "</table>\n",
       "</div>"
      ],
      "text/plain": [
       "  posa_continent  percentage\n",
       "0              3    0.750324\n",
       "1              1    0.117844\n",
       "2              2    0.093336\n",
       "3              4    0.031696\n",
       "4              0    0.006800"
      ]
     },
     "execution_count": 17,
     "metadata": {},
     "output_type": "execute_result"
    }
   ],
   "source": [
    "df_temp_values[:5]"
   ]
  },
  {
   "cell_type": "code",
   "execution_count": 18,
   "metadata": {},
   "outputs": [],
   "source": [
    "# Reasonable number of categories\n",
    "# will keep it as is and convert to dummy for models"
   ]
  },
  {
   "cell_type": "code",
   "execution_count": 19,
   "metadata": {},
   "outputs": [
    {
     "data": {
      "text/plain": [
       "212"
      ]
     },
     "execution_count": 19,
     "metadata": {},
     "output_type": "execute_result"
    }
   ],
   "source": [
    "# user_location_country\n",
    "temp_values = df.user_location_country.value_counts()/len(df)\n",
    "df_temp_values = temp_values.rename_axis(\n",
    "    'user_location_country').reset_index(name='percentage')\n",
    "len(df_temp_values)"
   ]
  },
  {
   "cell_type": "code",
   "execution_count": 20,
   "metadata": {},
   "outputs": [
    {
     "data": {
      "text/html": [
       "<div>\n",
       "<style scoped>\n",
       "    .dataframe tbody tr th:only-of-type {\n",
       "        vertical-align: middle;\n",
       "    }\n",
       "\n",
       "    .dataframe tbody tr th {\n",
       "        vertical-align: top;\n",
       "    }\n",
       "\n",
       "    .dataframe thead th {\n",
       "        text-align: right;\n",
       "    }\n",
       "</style>\n",
       "<table border=\"1\" class=\"dataframe\">\n",
       "  <thead>\n",
       "    <tr style=\"text-align: right;\">\n",
       "      <th></th>\n",
       "      <th>user_location_country</th>\n",
       "      <th>percentage</th>\n",
       "    </tr>\n",
       "  </thead>\n",
       "  <tbody>\n",
       "    <tr>\n",
       "      <th>0</th>\n",
       "      <td>66</td>\n",
       "      <td>0.541852</td>\n",
       "    </tr>\n",
       "    <tr>\n",
       "      <th>1</th>\n",
       "      <td>205</td>\n",
       "      <td>0.110624</td>\n",
       "    </tr>\n",
       "    <tr>\n",
       "      <th>2</th>\n",
       "      <td>3</td>\n",
       "      <td>0.058420</td>\n",
       "    </tr>\n",
       "    <tr>\n",
       "      <th>3</th>\n",
       "      <td>69</td>\n",
       "      <td>0.051468</td>\n",
       "    </tr>\n",
       "    <tr>\n",
       "      <th>4</th>\n",
       "      <td>77</td>\n",
       "      <td>0.025276</td>\n",
       "    </tr>\n",
       "  </tbody>\n",
       "</table>\n",
       "</div>"
      ],
      "text/plain": [
       "  user_location_country  percentage\n",
       "0                    66    0.541852\n",
       "1                   205    0.110624\n",
       "2                     3    0.058420\n",
       "3                    69    0.051468\n",
       "4                    77    0.025276"
      ]
     },
     "execution_count": 20,
     "metadata": {},
     "output_type": "execute_result"
    }
   ],
   "source": [
    "df_temp_values[:5]"
   ]
  },
  {
   "cell_type": "code",
   "execution_count": 21,
   "metadata": {},
   "outputs": [],
   "source": [
    "# Too many categories\n",
    "# Will likely keep top 4 most frequent categories and group\n",
    "# other categories into \"other\""
   ]
  },
  {
   "cell_type": "code",
   "execution_count": 22,
   "metadata": {},
   "outputs": [
    {
     "data": {
      "text/plain": [
       "15954"
      ]
     },
     "execution_count": 22,
     "metadata": {},
     "output_type": "execute_result"
    }
   ],
   "source": [
    "# user_location_city\n",
    "temp_values = df.user_location_city.value_counts()/len(df)\n",
    "df_temp_values = temp_values.rename_axis(\n",
    "    'user_location_city').reset_index(name='percentage')\n",
    "len(df_temp_values)"
   ]
  },
  {
   "cell_type": "code",
   "execution_count": 23,
   "metadata": {},
   "outputs": [
    {
     "data": {
      "text/html": [
       "<div>\n",
       "<style scoped>\n",
       "    .dataframe tbody tr th:only-of-type {\n",
       "        vertical-align: middle;\n",
       "    }\n",
       "\n",
       "    .dataframe tbody tr th {\n",
       "        vertical-align: top;\n",
       "    }\n",
       "\n",
       "    .dataframe thead th {\n",
       "        text-align: right;\n",
       "    }\n",
       "</style>\n",
       "<table border=\"1\" class=\"dataframe\">\n",
       "  <thead>\n",
       "    <tr style=\"text-align: right;\">\n",
       "      <th></th>\n",
       "      <th>user_location_city</th>\n",
       "      <th>percentage</th>\n",
       "    </tr>\n",
       "  </thead>\n",
       "  <tbody>\n",
       "    <tr>\n",
       "      <th>0</th>\n",
       "      <td>5703</td>\n",
       "      <td>0.019808</td>\n",
       "    </tr>\n",
       "    <tr>\n",
       "      <th>1</th>\n",
       "      <td>48862</td>\n",
       "      <td>0.016900</td>\n",
       "    </tr>\n",
       "    <tr>\n",
       "      <th>2</th>\n",
       "      <td>25315</td>\n",
       "      <td>0.010580</td>\n",
       "    </tr>\n",
       "    <tr>\n",
       "      <th>3</th>\n",
       "      <td>24103</td>\n",
       "      <td>0.010496</td>\n",
       "    </tr>\n",
       "    <tr>\n",
       "      <th>4</th>\n",
       "      <td>36086</td>\n",
       "      <td>0.009560</td>\n",
       "    </tr>\n",
       "  </tbody>\n",
       "</table>\n",
       "</div>"
      ],
      "text/plain": [
       "  user_location_city  percentage\n",
       "0               5703    0.019808\n",
       "1              48862    0.016900\n",
       "2              25315    0.010580\n",
       "3              24103    0.010496\n",
       "4              36086    0.009560"
      ]
     },
     "execution_count": 23,
     "metadata": {},
     "output_type": "execute_result"
    }
   ],
   "source": [
    "df_temp_values[:5]"
   ]
  },
  {
   "cell_type": "code",
   "execution_count": 24,
   "metadata": {},
   "outputs": [],
   "source": [
    "# Too many categories\n",
    "# will likely drop this variable, since other \n",
    "# columns (such as user_location_country)\n",
    "# have similar information in more condensed form"
   ]
  },
  {
   "cell_type": "code",
   "execution_count": 25,
   "metadata": {},
   "outputs": [
    {
     "data": {
      "text/plain": [
       "833"
      ]
     },
     "execution_count": 25,
     "metadata": {},
     "output_type": "execute_result"
    }
   ],
   "source": [
    "# user_location_region\n",
    "temp_values = df.user_location_region.value_counts()/len(df)\n",
    "df_temp_values = temp_values.rename_axis(\n",
    "    'user_location_region').reset_index(name='percentage')\n",
    "len(df_temp_values)"
   ]
  },
  {
   "cell_type": "code",
   "execution_count": 26,
   "metadata": {},
   "outputs": [
    {
     "data": {
      "text/html": [
       "<div>\n",
       "<style scoped>\n",
       "    .dataframe tbody tr th:only-of-type {\n",
       "        vertical-align: middle;\n",
       "    }\n",
       "\n",
       "    .dataframe tbody tr th {\n",
       "        vertical-align: top;\n",
       "    }\n",
       "\n",
       "    .dataframe thead th {\n",
       "        text-align: right;\n",
       "    }\n",
       "</style>\n",
       "<table border=\"1\" class=\"dataframe\">\n",
       "  <thead>\n",
       "    <tr style=\"text-align: right;\">\n",
       "      <th></th>\n",
       "      <th>user_location_region</th>\n",
       "      <th>percentage</th>\n",
       "    </tr>\n",
       "  </thead>\n",
       "  <tbody>\n",
       "    <tr>\n",
       "      <th>0</th>\n",
       "      <td>174</td>\n",
       "      <td>0.110608</td>\n",
       "    </tr>\n",
       "    <tr>\n",
       "      <th>1</th>\n",
       "      <td>348</td>\n",
       "      <td>0.050404</td>\n",
       "    </tr>\n",
       "    <tr>\n",
       "      <th>2</th>\n",
       "      <td>354</td>\n",
       "      <td>0.045136</td>\n",
       "    </tr>\n",
       "    <tr>\n",
       "      <th>3</th>\n",
       "      <td>442</td>\n",
       "      <td>0.038088</td>\n",
       "    </tr>\n",
       "    <tr>\n",
       "      <th>4</th>\n",
       "      <td>220</td>\n",
       "      <td>0.036024</td>\n",
       "    </tr>\n",
       "  </tbody>\n",
       "</table>\n",
       "</div>"
      ],
      "text/plain": [
       "  user_location_region  percentage\n",
       "0                  174    0.110608\n",
       "1                  348    0.050404\n",
       "2                  354    0.045136\n",
       "3                  442    0.038088\n",
       "4                  220    0.036024"
      ]
     },
     "execution_count": 26,
     "metadata": {},
     "output_type": "execute_result"
    }
   ],
   "source": [
    "df_temp_values[:5]"
   ]
  },
  {
   "cell_type": "code",
   "execution_count": 27,
   "metadata": {},
   "outputs": [],
   "source": [
    "# Too many categories\n",
    "# will likely drop this variable, since other \n",
    "# columns (such as user_location_country)\n",
    "# have similar information in more condensed form"
   ]
  },
  {
   "cell_type": "code",
   "execution_count": 28,
   "metadata": {},
   "outputs": [
    {
     "data": {
      "text/plain": [
       "11"
      ]
     },
     "execution_count": 28,
     "metadata": {},
     "output_type": "execute_result"
    }
   ],
   "source": [
    "# chanel\n",
    "temp_values = df.channel.value_counts()/len(df)\n",
    "df_temp_values = temp_values.rename_axis(\n",
    "    'channel').reset_index(name='percentage')\n",
    "len(df_temp_values)"
   ]
  },
  {
   "cell_type": "code",
   "execution_count": 29,
   "metadata": {},
   "outputs": [
    {
     "data": {
      "text/html": [
       "<div>\n",
       "<style scoped>\n",
       "    .dataframe tbody tr th:only-of-type {\n",
       "        vertical-align: middle;\n",
       "    }\n",
       "\n",
       "    .dataframe tbody tr th {\n",
       "        vertical-align: top;\n",
       "    }\n",
       "\n",
       "    .dataframe thead th {\n",
       "        text-align: right;\n",
       "    }\n",
       "</style>\n",
       "<table border=\"1\" class=\"dataframe\">\n",
       "  <thead>\n",
       "    <tr style=\"text-align: right;\">\n",
       "      <th></th>\n",
       "      <th>channel</th>\n",
       "      <th>percentage</th>\n",
       "    </tr>\n",
       "  </thead>\n",
       "  <tbody>\n",
       "    <tr>\n",
       "      <th>0</th>\n",
       "      <td>9</td>\n",
       "      <td>0.552112</td>\n",
       "    </tr>\n",
       "    <tr>\n",
       "      <th>1</th>\n",
       "      <td>0</td>\n",
       "      <td>0.124896</td>\n",
       "    </tr>\n",
       "    <tr>\n",
       "      <th>2</th>\n",
       "      <td>1</td>\n",
       "      <td>0.102760</td>\n",
       "    </tr>\n",
       "    <tr>\n",
       "      <th>3</th>\n",
       "      <td>2</td>\n",
       "      <td>0.078676</td>\n",
       "    </tr>\n",
       "    <tr>\n",
       "      <th>4</th>\n",
       "      <td>5</td>\n",
       "      <td>0.062248</td>\n",
       "    </tr>\n",
       "    <tr>\n",
       "      <th>5</th>\n",
       "      <td>3</td>\n",
       "      <td>0.044232</td>\n",
       "    </tr>\n",
       "    <tr>\n",
       "      <th>6</th>\n",
       "      <td>4</td>\n",
       "      <td>0.021876</td>\n",
       "    </tr>\n",
       "    <tr>\n",
       "      <th>7</th>\n",
       "      <td>7</td>\n",
       "      <td>0.008468</td>\n",
       "    </tr>\n",
       "    <tr>\n",
       "      <th>8</th>\n",
       "      <td>8</td>\n",
       "      <td>0.003028</td>\n",
       "    </tr>\n",
       "    <tr>\n",
       "      <th>9</th>\n",
       "      <td>6</td>\n",
       "      <td>0.001552</td>\n",
       "    </tr>\n",
       "    <tr>\n",
       "      <th>10</th>\n",
       "      <td>10</td>\n",
       "      <td>0.000152</td>\n",
       "    </tr>\n",
       "  </tbody>\n",
       "</table>\n",
       "</div>"
      ],
      "text/plain": [
       "   channel  percentage\n",
       "0        9    0.552112\n",
       "1        0    0.124896\n",
       "2        1    0.102760\n",
       "3        2    0.078676\n",
       "4        5    0.062248\n",
       "5        3    0.044232\n",
       "6        4    0.021876\n",
       "7        7    0.008468\n",
       "8        8    0.003028\n",
       "9        6    0.001552\n",
       "10      10    0.000152"
      ]
     },
     "execution_count": 29,
     "metadata": {},
     "output_type": "execute_result"
    }
   ],
   "source": [
    "df_temp_values[:11]"
   ]
  },
  {
   "cell_type": "code",
   "execution_count": 30,
   "metadata": {},
   "outputs": [],
   "source": [
    "# Too many categories\n",
    "# Will likely keep top 4 most frequent categories and group\n",
    "# other categories into \"other\""
   ]
  },
  {
   "cell_type": "code",
   "execution_count": 31,
   "metadata": {},
   "outputs": [
    {
     "data": {
      "text/plain": [
       "13552"
      ]
     },
     "execution_count": 31,
     "metadata": {},
     "output_type": "execute_result"
    }
   ],
   "source": [
    "# srch_destination_id\n",
    "temp_values = df.srch_destination_id.value_counts()/len(df)\n",
    "df_temp_values = temp_values.rename_axis(\n",
    "    'srch_destination_id').reset_index(name='percentage')\n",
    "len(df_temp_values)"
   ]
  },
  {
   "cell_type": "code",
   "execution_count": 32,
   "metadata": {},
   "outputs": [
    {
     "data": {
      "text/html": [
       "<div>\n",
       "<style scoped>\n",
       "    .dataframe tbody tr th:only-of-type {\n",
       "        vertical-align: middle;\n",
       "    }\n",
       "\n",
       "    .dataframe tbody tr th {\n",
       "        vertical-align: top;\n",
       "    }\n",
       "\n",
       "    .dataframe thead th {\n",
       "        text-align: right;\n",
       "    }\n",
       "</style>\n",
       "<table border=\"1\" class=\"dataframe\">\n",
       "  <thead>\n",
       "    <tr style=\"text-align: right;\">\n",
       "      <th></th>\n",
       "      <th>srch_destination_id</th>\n",
       "      <th>percentage</th>\n",
       "    </tr>\n",
       "  </thead>\n",
       "  <tbody>\n",
       "    <tr>\n",
       "      <th>0</th>\n",
       "      <td>8250</td>\n",
       "      <td>0.035312</td>\n",
       "    </tr>\n",
       "    <tr>\n",
       "      <th>1</th>\n",
       "      <td>8267</td>\n",
       "      <td>0.026696</td>\n",
       "    </tr>\n",
       "    <tr>\n",
       "      <th>2</th>\n",
       "      <td>8791</td>\n",
       "      <td>0.016108</td>\n",
       "    </tr>\n",
       "    <tr>\n",
       "      <th>3</th>\n",
       "      <td>8268</td>\n",
       "      <td>0.014156</td>\n",
       "    </tr>\n",
       "    <tr>\n",
       "      <th>4</th>\n",
       "      <td>8745</td>\n",
       "      <td>0.013228</td>\n",
       "    </tr>\n",
       "  </tbody>\n",
       "</table>\n",
       "</div>"
      ],
      "text/plain": [
       "  srch_destination_id  percentage\n",
       "0                8250    0.035312\n",
       "1                8267    0.026696\n",
       "2                8791    0.016108\n",
       "3                8268    0.014156\n",
       "4                8745    0.013228"
      ]
     },
     "execution_count": 32,
     "metadata": {},
     "output_type": "execute_result"
    }
   ],
   "source": [
    "df_temp_values[:5]"
   ]
  },
  {
   "cell_type": "code",
   "execution_count": 33,
   "metadata": {},
   "outputs": [],
   "source": [
    "# Too many categories\n",
    "# will likely drop this variable, since \n",
    "# other columns (such as srch_destination_type_id)\n",
    "# have similar information in more condensed form"
   ]
  },
  {
   "cell_type": "code",
   "execution_count": 34,
   "metadata": {},
   "outputs": [
    {
     "data": {
      "text/plain": [
       "8"
      ]
     },
     "execution_count": 34,
     "metadata": {},
     "output_type": "execute_result"
    }
   ],
   "source": [
    "# srch_destination_type_id\n",
    "temp_values = df.srch_destination_type_id.value_counts()/len(df)\n",
    "df_temp_values = temp_values.rename_axis(\n",
    "    'srch_destination_type_id').reset_index(name='percentage')\n",
    "len(df_temp_values)"
   ]
  },
  {
   "cell_type": "code",
   "execution_count": 35,
   "metadata": {},
   "outputs": [
    {
     "data": {
      "text/html": [
       "<div>\n",
       "<style scoped>\n",
       "    .dataframe tbody tr th:only-of-type {\n",
       "        vertical-align: middle;\n",
       "    }\n",
       "\n",
       "    .dataframe tbody tr th {\n",
       "        vertical-align: top;\n",
       "    }\n",
       "\n",
       "    .dataframe thead th {\n",
       "        text-align: right;\n",
       "    }\n",
       "</style>\n",
       "<table border=\"1\" class=\"dataframe\">\n",
       "  <thead>\n",
       "    <tr style=\"text-align: right;\">\n",
       "      <th></th>\n",
       "      <th>srch_destination_type_id</th>\n",
       "      <th>percentage</th>\n",
       "    </tr>\n",
       "  </thead>\n",
       "  <tbody>\n",
       "    <tr>\n",
       "      <th>0</th>\n",
       "      <td>1</td>\n",
       "      <td>0.619320</td>\n",
       "    </tr>\n",
       "    <tr>\n",
       "      <th>1</th>\n",
       "      <td>6</td>\n",
       "      <td>0.223456</td>\n",
       "    </tr>\n",
       "    <tr>\n",
       "      <th>2</th>\n",
       "      <td>3</td>\n",
       "      <td>0.072996</td>\n",
       "    </tr>\n",
       "    <tr>\n",
       "      <th>3</th>\n",
       "      <td>5</td>\n",
       "      <td>0.047496</td>\n",
       "    </tr>\n",
       "    <tr>\n",
       "      <th>4</th>\n",
       "      <td>4</td>\n",
       "      <td>0.033000</td>\n",
       "    </tr>\n",
       "    <tr>\n",
       "      <th>5</th>\n",
       "      <td>8</td>\n",
       "      <td>0.003624</td>\n",
       "    </tr>\n",
       "    <tr>\n",
       "      <th>6</th>\n",
       "      <td>7</td>\n",
       "      <td>0.000064</td>\n",
       "    </tr>\n",
       "    <tr>\n",
       "      <th>7</th>\n",
       "      <td>9</td>\n",
       "      <td>0.000044</td>\n",
       "    </tr>\n",
       "  </tbody>\n",
       "</table>\n",
       "</div>"
      ],
      "text/plain": [
       "  srch_destination_type_id  percentage\n",
       "0                        1    0.619320\n",
       "1                        6    0.223456\n",
       "2                        3    0.072996\n",
       "3                        5    0.047496\n",
       "4                        4    0.033000\n",
       "5                        8    0.003624\n",
       "6                        7    0.000064\n",
       "7                        9    0.000044"
      ]
     },
     "execution_count": 35,
     "metadata": {},
     "output_type": "execute_result"
    }
   ],
   "source": [
    "df_temp_values[:8]"
   ]
  },
  {
   "cell_type": "code",
   "execution_count": 36,
   "metadata": {},
   "outputs": [],
   "source": [
    "# Too many categories\n",
    "# Will likely keep top 4 most frequent categories and group\n",
    "# other categories into \"other\""
   ]
  },
  {
   "cell_type": "code",
   "execution_count": 37,
   "metadata": {},
   "outputs": [
    {
     "data": {
      "text/plain": [
       "7"
      ]
     },
     "execution_count": 37,
     "metadata": {},
     "output_type": "execute_result"
    }
   ],
   "source": [
    "# hotel_continent\n",
    "temp_values = df.hotel_continent.value_counts()/len(df)\n",
    "df_temp_values = temp_values.rename_axis(\n",
    "    'hotel_continent').reset_index(name='percentage')\n",
    "len(df_temp_values)"
   ]
  },
  {
   "cell_type": "code",
   "execution_count": 38,
   "metadata": {},
   "outputs": [
    {
     "data": {
      "text/html": [
       "<div>\n",
       "<style scoped>\n",
       "    .dataframe tbody tr th:only-of-type {\n",
       "        vertical-align: middle;\n",
       "    }\n",
       "\n",
       "    .dataframe tbody tr th {\n",
       "        vertical-align: top;\n",
       "    }\n",
       "\n",
       "    .dataframe thead th {\n",
       "        text-align: right;\n",
       "    }\n",
       "</style>\n",
       "<table border=\"1\" class=\"dataframe\">\n",
       "  <thead>\n",
       "    <tr style=\"text-align: right;\">\n",
       "      <th></th>\n",
       "      <th>hotel_continent</th>\n",
       "      <th>percentage</th>\n",
       "    </tr>\n",
       "  </thead>\n",
       "  <tbody>\n",
       "    <tr>\n",
       "      <th>0</th>\n",
       "      <td>2</td>\n",
       "      <td>0.523036</td>\n",
       "    </tr>\n",
       "    <tr>\n",
       "      <th>1</th>\n",
       "      <td>6</td>\n",
       "      <td>0.202332</td>\n",
       "    </tr>\n",
       "    <tr>\n",
       "      <th>2</th>\n",
       "      <td>3</td>\n",
       "      <td>0.130720</td>\n",
       "    </tr>\n",
       "    <tr>\n",
       "      <th>3</th>\n",
       "      <td>4</td>\n",
       "      <td>0.114760</td>\n",
       "    </tr>\n",
       "    <tr>\n",
       "      <th>4</th>\n",
       "      <td>0</td>\n",
       "      <td>0.018828</td>\n",
       "    </tr>\n",
       "    <tr>\n",
       "      <th>5</th>\n",
       "      <td>5</td>\n",
       "      <td>0.010320</td>\n",
       "    </tr>\n",
       "    <tr>\n",
       "      <th>6</th>\n",
       "      <td>1</td>\n",
       "      <td>0.000004</td>\n",
       "    </tr>\n",
       "  </tbody>\n",
       "</table>\n",
       "</div>"
      ],
      "text/plain": [
       "  hotel_continent  percentage\n",
       "0               2    0.523036\n",
       "1               6    0.202332\n",
       "2               3    0.130720\n",
       "3               4    0.114760\n",
       "4               0    0.018828\n",
       "5               5    0.010320\n",
       "6               1    0.000004"
      ]
     },
     "execution_count": 38,
     "metadata": {},
     "output_type": "execute_result"
    }
   ],
   "source": [
    "df_temp_values[:7]"
   ]
  },
  {
   "cell_type": "code",
   "execution_count": 39,
   "metadata": {},
   "outputs": [],
   "source": [
    "# Reasonable number of categories\n",
    "# will keep it as is and convert to dummy for models"
   ]
  },
  {
   "cell_type": "code",
   "execution_count": 40,
   "metadata": {},
   "outputs": [
    {
     "data": {
      "text/plain": [
       "189"
      ]
     },
     "execution_count": 40,
     "metadata": {},
     "output_type": "execute_result"
    }
   ],
   "source": [
    "# hotel_country\n",
    "temp_values = df.hotel_country.value_counts()/len(df)\n",
    "df_temp_values = temp_values.rename_axis(\n",
    "    'hotel_country').reset_index(name='percentage')\n",
    "len(df_temp_values)"
   ]
  },
  {
   "cell_type": "code",
   "execution_count": 41,
   "metadata": {},
   "outputs": [
    {
     "data": {
      "text/html": [
       "<div>\n",
       "<style scoped>\n",
       "    .dataframe tbody tr th:only-of-type {\n",
       "        vertical-align: middle;\n",
       "    }\n",
       "\n",
       "    .dataframe tbody tr th {\n",
       "        vertical-align: top;\n",
       "    }\n",
       "\n",
       "    .dataframe thead th {\n",
       "        text-align: right;\n",
       "    }\n",
       "</style>\n",
       "<table border=\"1\" class=\"dataframe\">\n",
       "  <thead>\n",
       "    <tr style=\"text-align: right;\">\n",
       "      <th></th>\n",
       "      <th>hotel_country</th>\n",
       "      <th>percentage</th>\n",
       "    </tr>\n",
       "  </thead>\n",
       "  <tbody>\n",
       "    <tr>\n",
       "      <th>0</th>\n",
       "      <td>50</td>\n",
       "      <td>0.476908</td>\n",
       "    </tr>\n",
       "    <tr>\n",
       "      <th>1</th>\n",
       "      <td>8</td>\n",
       "      <td>0.050484</td>\n",
       "    </tr>\n",
       "    <tr>\n",
       "      <th>2</th>\n",
       "      <td>198</td>\n",
       "      <td>0.046128</td>\n",
       "    </tr>\n",
       "    <tr>\n",
       "      <th>3</th>\n",
       "      <td>105</td>\n",
       "      <td>0.036204</td>\n",
       "    </tr>\n",
       "    <tr>\n",
       "      <th>4</th>\n",
       "      <td>70</td>\n",
       "      <td>0.031644</td>\n",
       "    </tr>\n",
       "    <tr>\n",
       "      <th>5</th>\n",
       "      <td>204</td>\n",
       "      <td>0.028428</td>\n",
       "    </tr>\n",
       "    <tr>\n",
       "      <th>6</th>\n",
       "      <td>77</td>\n",
       "      <td>0.024816</td>\n",
       "    </tr>\n",
       "    <tr>\n",
       "      <th>7</th>\n",
       "      <td>182</td>\n",
       "      <td>0.023636</td>\n",
       "    </tr>\n",
       "    <tr>\n",
       "      <th>8</th>\n",
       "      <td>106</td>\n",
       "      <td>0.017096</td>\n",
       "    </tr>\n",
       "    <tr>\n",
       "      <th>9</th>\n",
       "      <td>144</td>\n",
       "      <td>0.015788</td>\n",
       "    </tr>\n",
       "  </tbody>\n",
       "</table>\n",
       "</div>"
      ],
      "text/plain": [
       "  hotel_country  percentage\n",
       "0            50    0.476908\n",
       "1             8    0.050484\n",
       "2           198    0.046128\n",
       "3           105    0.036204\n",
       "4            70    0.031644\n",
       "5           204    0.028428\n",
       "6            77    0.024816\n",
       "7           182    0.023636\n",
       "8           106    0.017096\n",
       "9           144    0.015788"
      ]
     },
     "execution_count": 41,
     "metadata": {},
     "output_type": "execute_result"
    }
   ],
   "source": [
    "df_temp_values[:10]"
   ]
  },
  {
   "cell_type": "code",
   "execution_count": 42,
   "metadata": {},
   "outputs": [],
   "source": [
    "# Too many categories\n",
    "# Will likely keep top 4 most frequent categories and group\n",
    "# other categories into \"other\""
   ]
  },
  {
   "cell_type": "code",
   "execution_count": 43,
   "metadata": {},
   "outputs": [
    {
     "data": {
      "text/plain": [
       "2004"
      ]
     },
     "execution_count": 43,
     "metadata": {},
     "output_type": "execute_result"
    }
   ],
   "source": [
    "# hotel_market\n",
    "temp_values = df.hotel_market.value_counts()/len(df)\n",
    "df_temp_values = temp_values.rename_axis(\n",
    "    'hotel_market').reset_index(name='percentage')\n",
    "len(df_temp_values)"
   ]
  },
  {
   "cell_type": "code",
   "execution_count": 44,
   "metadata": {},
   "outputs": [
    {
     "data": {
      "text/html": [
       "<div>\n",
       "<style scoped>\n",
       "    .dataframe tbody tr th:only-of-type {\n",
       "        vertical-align: middle;\n",
       "    }\n",
       "\n",
       "    .dataframe tbody tr th {\n",
       "        vertical-align: top;\n",
       "    }\n",
       "\n",
       "    .dataframe thead th {\n",
       "        text-align: right;\n",
       "    }\n",
       "</style>\n",
       "<table border=\"1\" class=\"dataframe\">\n",
       "  <thead>\n",
       "    <tr style=\"text-align: right;\">\n",
       "      <th></th>\n",
       "      <th>hotel_market</th>\n",
       "      <th>percentage</th>\n",
       "    </tr>\n",
       "  </thead>\n",
       "  <tbody>\n",
       "    <tr>\n",
       "      <th>0</th>\n",
       "      <td>628</td>\n",
       "      <td>0.046804</td>\n",
       "    </tr>\n",
       "    <tr>\n",
       "      <th>1</th>\n",
       "      <td>675</td>\n",
       "      <td>0.042400</td>\n",
       "    </tr>\n",
       "    <tr>\n",
       "      <th>2</th>\n",
       "      <td>682</td>\n",
       "      <td>0.022604</td>\n",
       "    </tr>\n",
       "    <tr>\n",
       "      <th>3</th>\n",
       "      <td>19</td>\n",
       "      <td>0.021184</td>\n",
       "    </tr>\n",
       "    <tr>\n",
       "      <th>4</th>\n",
       "      <td>365</td>\n",
       "      <td>0.020592</td>\n",
       "    </tr>\n",
       "    <tr>\n",
       "      <th>5</th>\n",
       "      <td>701</td>\n",
       "      <td>0.019804</td>\n",
       "    </tr>\n",
       "    <tr>\n",
       "      <th>6</th>\n",
       "      <td>110</td>\n",
       "      <td>0.019588</td>\n",
       "    </tr>\n",
       "    <tr>\n",
       "      <th>7</th>\n",
       "      <td>27</td>\n",
       "      <td>0.017016</td>\n",
       "    </tr>\n",
       "    <tr>\n",
       "      <th>8</th>\n",
       "      <td>1230</td>\n",
       "      <td>0.015944</td>\n",
       "    </tr>\n",
       "    <tr>\n",
       "      <th>9</th>\n",
       "      <td>212</td>\n",
       "      <td>0.013500</td>\n",
       "    </tr>\n",
       "    <tr>\n",
       "      <th>10</th>\n",
       "      <td>368</td>\n",
       "      <td>0.013008</td>\n",
       "    </tr>\n",
       "    <tr>\n",
       "      <th>11</th>\n",
       "      <td>637</td>\n",
       "      <td>0.012288</td>\n",
       "    </tr>\n",
       "    <tr>\n",
       "      <th>12</th>\n",
       "      <td>29</td>\n",
       "      <td>0.012104</td>\n",
       "    </tr>\n",
       "    <tr>\n",
       "      <th>13</th>\n",
       "      <td>126</td>\n",
       "      <td>0.012080</td>\n",
       "    </tr>\n",
       "    <tr>\n",
       "      <th>14</th>\n",
       "      <td>1503</td>\n",
       "      <td>0.011016</td>\n",
       "    </tr>\n",
       "    <tr>\n",
       "      <th>15</th>\n",
       "      <td>46</td>\n",
       "      <td>0.010852</td>\n",
       "    </tr>\n",
       "    <tr>\n",
       "      <th>16</th>\n",
       "      <td>191</td>\n",
       "      <td>0.010020</td>\n",
       "    </tr>\n",
       "    <tr>\n",
       "      <th>17</th>\n",
       "      <td>366</td>\n",
       "      <td>0.009868</td>\n",
       "    </tr>\n",
       "    <tr>\n",
       "      <th>18</th>\n",
       "      <td>61</td>\n",
       "      <td>0.008776</td>\n",
       "    </tr>\n",
       "    <tr>\n",
       "      <th>19</th>\n",
       "      <td>2</td>\n",
       "      <td>0.008604</td>\n",
       "    </tr>\n",
       "  </tbody>\n",
       "</table>\n",
       "</div>"
      ],
      "text/plain": [
       "   hotel_market  percentage\n",
       "0           628    0.046804\n",
       "1           675    0.042400\n",
       "2           682    0.022604\n",
       "3            19    0.021184\n",
       "4           365    0.020592\n",
       "5           701    0.019804\n",
       "6           110    0.019588\n",
       "7            27    0.017016\n",
       "8          1230    0.015944\n",
       "9           212    0.013500\n",
       "10          368    0.013008\n",
       "11          637    0.012288\n",
       "12           29    0.012104\n",
       "13          126    0.012080\n",
       "14         1503    0.011016\n",
       "15           46    0.010852\n",
       "16          191    0.010020\n",
       "17          366    0.009868\n",
       "18           61    0.008776\n",
       "19            2    0.008604"
      ]
     },
     "execution_count": 44,
     "metadata": {},
     "output_type": "execute_result"
    }
   ],
   "source": [
    "# hotel_market\n",
    "temp_values = df.hotel_market.value_counts()/len(df)\n",
    "df_temp_values = temp_values.rename_axis(\n",
    "    'hotel_market').reset_index(name='percentage')\n",
    "df_temp_values[:20]"
   ]
  },
  {
   "cell_type": "code",
   "execution_count": 45,
   "metadata": {},
   "outputs": [],
   "source": [
    "# Too many categories\n",
    "# Will likely keep top 4 most frequent categories and group\n",
    "# other categories into \"other\""
   ]
  },
  {
   "cell_type": "markdown",
   "metadata": {},
   "source": [
    "## Encoding Variables"
   ]
  },
  {
   "cell_type": "code",
   "execution_count": 46,
   "metadata": {},
   "outputs": [],
   "source": [
    "# Will group categories and then create dummies"
   ]
  },
  {
   "cell_type": "code",
   "execution_count": 47,
   "metadata": {},
   "outputs": [],
   "source": [
    "df['site_name_new'] = df[\n",
    "    'site_name'].apply(\n",
    "    lambda i: i if i in [2] else 'other')\n",
    "\n",
    "df['user_location_country_new'] = df[\n",
    "    'user_location_country'].apply(\n",
    "    lambda i: i if i in [66,205,3,69] else 'other')\n",
    "\n",
    "df['channel_new'] = df[\n",
    "    'channel'].apply(\n",
    "    lambda i: i if i in [9,0,1,2] else 'other')\n",
    "\n",
    "df['srch_destination_type_id_new'] = df[\n",
    "    'srch_destination_type_id'].apply(\n",
    "    lambda i: i if i in [1,6,3,5] else 'other')\n",
    "\n",
    "df['hotel_country_new'] = df[\n",
    "    'hotel_country'].apply(\n",
    "    lambda i: i if i in [50,8,198,105] else 'other')\n",
    "\n",
    "df['hotel_market_new'] = df[\n",
    "    'hotel_market'].apply(\n",
    "    lambda i: i if i in [628,675,682,19] else 'other')"
   ]
  },
  {
   "cell_type": "markdown",
   "metadata": {},
   "source": [
    "## Dropping Variables"
   ]
  },
  {
   "cell_type": "code",
   "execution_count": 48,
   "metadata": {},
   "outputs": [],
   "source": [
    "# Columns to drop:\n",
    "# - user_id (many unique values, can overfit)\n",
    "# - orig_destination_distance (many NAs)\n",
    "# - srch_ci (combined with srch_co into book_period)\n",
    "# - srch_co (combined with srch_ci into book_period)\n",
    "# - cnt (redundant column)\n",
    "# - date_time (log data, can overfit)\n",
    "# - site_name (replaced by site_name_new)\n",
    "# - user_location_country (replaced by user_location_country_new)\n",
    "# - user_location_city (related to user_location_country_new)\n",
    "# - user_location_region (related to user_location_country_new)\n",
    "# - channel (replaced by channel_new)\n",
    "# - srch_destination_id (related to srch_destination_type_id_new)\n",
    "# - srch_destination_type_id \n",
    "#    (replaced by srch_destination_type_id_new)\n",
    "# - hotel_country (replaced by hotel_country_new)\n",
    "# - hotel_market (replaced by hotel_market_new)\n",
    "# - is_booking (not present on test set)"
   ]
  },
  {
   "cell_type": "code",
   "execution_count": 49,
   "metadata": {},
   "outputs": [],
   "source": [
    "cols_to_drop = ['user_id','orig_destination_distance',\n",
    "               'date_time','cnt','srch_co','srch_ci',\n",
    "               'site_name','user_location_country',\n",
    "                'user_location_city','user_location_region',\n",
    "               'channel','srch_destination_id',\n",
    "                'srch_destination_type_id','hotel_country',\n",
    "                'hotel_market','is_booking']"
   ]
  },
  {
   "cell_type": "code",
   "execution_count": 50,
   "metadata": {},
   "outputs": [
    {
     "data": {
      "text/plain": [
       "(250000, 15)"
      ]
     },
     "execution_count": 50,
     "metadata": {},
     "output_type": "execute_result"
    }
   ],
   "source": [
    "df1 = df.drop(columns=cols_to_drop)\n",
    "df1.shape"
   ]
  },
  {
   "cell_type": "code",
   "execution_count": 51,
   "metadata": {},
   "outputs": [
    {
     "data": {
      "text/plain": [
       "posa_continent                  category\n",
       "is_mobile                          int64\n",
       "is_package                         int64\n",
       "srch_adults_cnt                    int64\n",
       "srch_children_cnt                  int64\n",
       "srch_rm_cnt                        int64\n",
       "hotel_continent                 category\n",
       "hotel_cluster                   category\n",
       "book_period                        int16\n",
       "site_name_new                     object\n",
       "user_location_country_new         object\n",
       "channel_new                       object\n",
       "srch_destination_type_id_new      object\n",
       "hotel_country_new                 object\n",
       "hotel_market_new                  object\n",
       "dtype: object"
      ]
     },
     "execution_count": 51,
     "metadata": {},
     "output_type": "execute_result"
    }
   ],
   "source": [
    "df1.dtypes"
   ]
  },
  {
   "cell_type": "markdown",
   "metadata": {},
   "source": [
    "## Creating Dummy Variables"
   ]
  },
  {
   "cell_type": "code",
   "execution_count": 52,
   "metadata": {},
   "outputs": [
    {
     "data": {
      "text/plain": [
       "(250000, 46)"
      ]
     },
     "execution_count": 52,
     "metadata": {},
     "output_type": "execute_result"
    }
   ],
   "source": [
    "cols_to_dummy = ['posa_continent','hotel_continent','site_name_new',\n",
    "                'user_location_country_new','channel_new',\n",
    "                 'srch_destination_type_id_new',\n",
    "                 'hotel_country_new','hotel_market_new'\n",
    "                ]\n",
    "df2 = pd.get_dummies(df1,columns=cols_to_dummy)\n",
    "df2.shape"
   ]
  },
  {
   "cell_type": "code",
   "execution_count": 53,
   "metadata": {},
   "outputs": [
    {
     "data": {
      "text/plain": [
       "is_mobile                                int64\n",
       "is_package                               int64\n",
       "srch_adults_cnt                          int64\n",
       "srch_children_cnt                        int64\n",
       "srch_rm_cnt                              int64\n",
       "hotel_cluster                         category\n",
       "book_period                              int16\n",
       "posa_continent_0                         uint8\n",
       "posa_continent_1                         uint8\n",
       "posa_continent_2                         uint8\n",
       "posa_continent_3                         uint8\n",
       "posa_continent_4                         uint8\n",
       "hotel_continent_0                        uint8\n",
       "hotel_continent_1                        uint8\n",
       "hotel_continent_2                        uint8\n",
       "hotel_continent_3                        uint8\n",
       "hotel_continent_4                        uint8\n",
       "hotel_continent_5                        uint8\n",
       "hotel_continent_6                        uint8\n",
       "site_name_new_2                          uint8\n",
       "site_name_new_other                      uint8\n",
       "user_location_country_new_3              uint8\n",
       "user_location_country_new_66             uint8\n",
       "user_location_country_new_69             uint8\n",
       "user_location_country_new_205            uint8\n",
       "user_location_country_new_other          uint8\n",
       "channel_new_0                            uint8\n",
       "channel_new_1                            uint8\n",
       "channel_new_2                            uint8\n",
       "channel_new_9                            uint8\n",
       "channel_new_other                        uint8\n",
       "srch_destination_type_id_new_1           uint8\n",
       "srch_destination_type_id_new_3           uint8\n",
       "srch_destination_type_id_new_5           uint8\n",
       "srch_destination_type_id_new_6           uint8\n",
       "srch_destination_type_id_new_other       uint8\n",
       "hotel_country_new_8                      uint8\n",
       "hotel_country_new_50                     uint8\n",
       "hotel_country_new_105                    uint8\n",
       "hotel_country_new_198                    uint8\n",
       "hotel_country_new_other                  uint8\n",
       "hotel_market_new_19                      uint8\n",
       "hotel_market_new_628                     uint8\n",
       "hotel_market_new_675                     uint8\n",
       "hotel_market_new_682                     uint8\n",
       "hotel_market_new_other                   uint8\n",
       "dtype: object"
      ]
     },
     "execution_count": 53,
     "metadata": {},
     "output_type": "execute_result"
    }
   ],
   "source": [
    "df2.dtypes"
   ]
  },
  {
   "cell_type": "markdown",
   "metadata": {},
   "source": [
    "## Separating Train-Test"
   ]
  },
  {
   "cell_type": "code",
   "execution_count": 54,
   "metadata": {},
   "outputs": [],
   "source": [
    "X = df2.drop(columns=['hotel_cluster'])\n",
    "y = df2.hotel_cluster"
   ]
  },
  {
   "cell_type": "code",
   "execution_count": 55,
   "metadata": {},
   "outputs": [],
   "source": [
    "X_train0, X_test0, y_train, y_test = train_test_split(\n",
    "    X, y, test_size=0.3, random_state=42)"
   ]
  },
  {
   "cell_type": "markdown",
   "metadata": {},
   "source": [
    "## Scaling Data"
   ]
  },
  {
   "cell_type": "code",
   "execution_count": 56,
   "metadata": {},
   "outputs": [],
   "source": [
    "# only numeric columns (excluding dummy ones) need to be scaled\n",
    "numeric_cols = ['srch_adults_cnt','srch_children_cnt',\n",
    "                'srch_rm_cnt','book_period']"
   ]
  },
  {
   "cell_type": "code",
   "execution_count": 57,
   "metadata": {},
   "outputs": [],
   "source": [
    "scaler = StandardScaler()\n",
    "\n",
    "# scaler is fit only on training set\n",
    "scaler.fit(X_train0[numeric_cols])\n",
    "\n",
    "X_train = X_train0.copy()\n",
    "X_test = X_test0.copy()\n",
    "\n",
    "X_train[numeric_cols] = scaler.transform(X_train0[numeric_cols])\n",
    "X_test[numeric_cols] = scaler.transform(X_test[numeric_cols])"
   ]
  },
  {
   "cell_type": "markdown",
   "metadata": {},
   "source": [
    "## Feature Importance (Random Forest)"
   ]
  },
  {
   "cell_type": "code",
   "execution_count": 58,
   "metadata": {},
   "outputs": [
    {
     "data": {
      "text/plain": [
       "RandomForestClassifier(bootstrap=True, class_weight=None, criterion='gini',\n",
       "                       max_depth=None, max_features='auto', max_leaf_nodes=None,\n",
       "                       min_impurity_decrease=0.0, min_impurity_split=None,\n",
       "                       min_samples_leaf=1, min_samples_split=2,\n",
       "                       min_weight_fraction_leaf=0.0, n_estimators=100,\n",
       "                       n_jobs=None, oob_score=False, random_state=1, verbose=0,\n",
       "                       warm_start=False)"
      ]
     },
     "execution_count": 58,
     "metadata": {},
     "output_type": "execute_result"
    }
   ],
   "source": [
    "rf_0 = RandomForestClassifier(n_estimators=100,\n",
    "                             random_state=1)\n",
    "rf_0.fit(X_train,y_train)"
   ]
  },
  {
   "cell_type": "code",
   "execution_count": 59,
   "metadata": {},
   "outputs": [
    {
     "data": {
      "text/html": [
       "<div>\n",
       "<style scoped>\n",
       "    .dataframe tbody tr th:only-of-type {\n",
       "        vertical-align: middle;\n",
       "    }\n",
       "\n",
       "    .dataframe tbody tr th {\n",
       "        vertical-align: top;\n",
       "    }\n",
       "\n",
       "    .dataframe thead th {\n",
       "        text-align: right;\n",
       "    }\n",
       "</style>\n",
       "<table border=\"1\" class=\"dataframe\">\n",
       "  <thead>\n",
       "    <tr style=\"text-align: right;\">\n",
       "      <th></th>\n",
       "      <th>Importance</th>\n",
       "    </tr>\n",
       "  </thead>\n",
       "  <tbody>\n",
       "    <tr>\n",
       "      <th>book_period</th>\n",
       "      <td>32.225542</td>\n",
       "    </tr>\n",
       "    <tr>\n",
       "      <th>srch_adults_cnt</th>\n",
       "      <td>14.799996</td>\n",
       "    </tr>\n",
       "    <tr>\n",
       "      <th>srch_children_cnt</th>\n",
       "      <td>10.541117</td>\n",
       "    </tr>\n",
       "    <tr>\n",
       "      <th>is_mobile</th>\n",
       "      <td>5.129307</td>\n",
       "    </tr>\n",
       "    <tr>\n",
       "      <th>srch_rm_cnt</th>\n",
       "      <td>4.935198</td>\n",
       "    </tr>\n",
       "    <tr>\n",
       "      <th>is_package</th>\n",
       "      <td>3.212319</td>\n",
       "    </tr>\n",
       "    <tr>\n",
       "      <th>channel_new_9</th>\n",
       "      <td>2.773042</td>\n",
       "    </tr>\n",
       "    <tr>\n",
       "      <th>channel_new_other</th>\n",
       "      <td>2.159956</td>\n",
       "    </tr>\n",
       "    <tr>\n",
       "      <th>channel_new_0</th>\n",
       "      <td>2.097563</td>\n",
       "    </tr>\n",
       "    <tr>\n",
       "      <th>channel_new_1</th>\n",
       "      <td>2.066004</td>\n",
       "    </tr>\n",
       "    <tr>\n",
       "      <th>channel_new_2</th>\n",
       "      <td>1.756373</td>\n",
       "    </tr>\n",
       "    <tr>\n",
       "      <th>srch_destination_type_id_new_1</th>\n",
       "      <td>1.372191</td>\n",
       "    </tr>\n",
       "    <tr>\n",
       "      <th>srch_destination_type_id_new_6</th>\n",
       "      <td>1.315882</td>\n",
       "    </tr>\n",
       "    <tr>\n",
       "      <th>user_location_country_new_other</th>\n",
       "      <td>1.183446</td>\n",
       "    </tr>\n",
       "    <tr>\n",
       "      <th>hotel_market_new_628</th>\n",
       "      <td>1.004578</td>\n",
       "    </tr>\n",
       "    <tr>\n",
       "      <th>srch_destination_type_id_new_3</th>\n",
       "      <td>0.928875</td>\n",
       "    </tr>\n",
       "    <tr>\n",
       "      <th>user_location_country_new_66</th>\n",
       "      <td>0.903490</td>\n",
       "    </tr>\n",
       "    <tr>\n",
       "      <th>srch_destination_type_id_new_5</th>\n",
       "      <td>0.827761</td>\n",
       "    </tr>\n",
       "    <tr>\n",
       "      <th>srch_destination_type_id_new_other</th>\n",
       "      <td>0.814596</td>\n",
       "    </tr>\n",
       "    <tr>\n",
       "      <th>hotel_continent_4</th>\n",
       "      <td>0.675094</td>\n",
       "    </tr>\n",
       "    <tr>\n",
       "      <th>hotel_market_new_other</th>\n",
       "      <td>0.671662</td>\n",
       "    </tr>\n",
       "    <tr>\n",
       "      <th>hotel_market_new_675</th>\n",
       "      <td>0.636107</td>\n",
       "    </tr>\n",
       "    <tr>\n",
       "      <th>hotel_continent_2</th>\n",
       "      <td>0.584827</td>\n",
       "    </tr>\n",
       "    <tr>\n",
       "      <th>posa_continent_1</th>\n",
       "      <td>0.541998</td>\n",
       "    </tr>\n",
       "    <tr>\n",
       "      <th>user_location_country_new_205</th>\n",
       "      <td>0.528504</td>\n",
       "    </tr>\n",
       "    <tr>\n",
       "      <th>user_location_country_new_69</th>\n",
       "      <td>0.525148</td>\n",
       "    </tr>\n",
       "    <tr>\n",
       "      <th>hotel_country_new_50</th>\n",
       "      <td>0.512906</td>\n",
       "    </tr>\n",
       "    <tr>\n",
       "      <th>site_name_new_other</th>\n",
       "      <td>0.466817</td>\n",
       "    </tr>\n",
       "    <tr>\n",
       "      <th>site_name_new_2</th>\n",
       "      <td>0.463592</td>\n",
       "    </tr>\n",
       "    <tr>\n",
       "      <th>posa_continent_3</th>\n",
       "      <td>0.461026</td>\n",
       "    </tr>\n",
       "    <tr>\n",
       "      <th>hotel_country_new_other</th>\n",
       "      <td>0.453387</td>\n",
       "    </tr>\n",
       "    <tr>\n",
       "      <th>posa_continent_2</th>\n",
       "      <td>0.425315</td>\n",
       "    </tr>\n",
       "    <tr>\n",
       "      <th>posa_continent_4</th>\n",
       "      <td>0.396549</td>\n",
       "    </tr>\n",
       "    <tr>\n",
       "      <th>user_location_country_new_3</th>\n",
       "      <td>0.387097</td>\n",
       "    </tr>\n",
       "    <tr>\n",
       "      <th>hotel_continent_6</th>\n",
       "      <td>0.378114</td>\n",
       "    </tr>\n",
       "    <tr>\n",
       "      <th>hotel_country_new_8</th>\n",
       "      <td>0.340156</td>\n",
       "    </tr>\n",
       "    <tr>\n",
       "      <th>hotel_continent_3</th>\n",
       "      <td>0.296822</td>\n",
       "    </tr>\n",
       "    <tr>\n",
       "      <th>hotel_market_new_682</th>\n",
       "      <td>0.272257</td>\n",
       "    </tr>\n",
       "    <tr>\n",
       "      <th>posa_continent_0</th>\n",
       "      <td>0.249377</td>\n",
       "    </tr>\n",
       "    <tr>\n",
       "      <th>hotel_continent_0</th>\n",
       "      <td>0.166751</td>\n",
       "    </tr>\n",
       "    <tr>\n",
       "      <th>hotel_country_new_105</th>\n",
       "      <td>0.157343</td>\n",
       "    </tr>\n",
       "    <tr>\n",
       "      <th>hotel_continent_5</th>\n",
       "      <td>0.142883</td>\n",
       "    </tr>\n",
       "    <tr>\n",
       "      <th>hotel_country_new_198</th>\n",
       "      <td>0.125178</td>\n",
       "    </tr>\n",
       "    <tr>\n",
       "      <th>hotel_market_new_19</th>\n",
       "      <td>0.093853</td>\n",
       "    </tr>\n",
       "    <tr>\n",
       "      <th>hotel_continent_1</th>\n",
       "      <td>0.000000</td>\n",
       "    </tr>\n",
       "  </tbody>\n",
       "</table>\n",
       "</div>"
      ],
      "text/plain": [
       "                                    Importance\n",
       "book_period                          32.225542\n",
       "srch_adults_cnt                      14.799996\n",
       "srch_children_cnt                    10.541117\n",
       "is_mobile                             5.129307\n",
       "srch_rm_cnt                           4.935198\n",
       "is_package                            3.212319\n",
       "channel_new_9                         2.773042\n",
       "channel_new_other                     2.159956\n",
       "channel_new_0                         2.097563\n",
       "channel_new_1                         2.066004\n",
       "channel_new_2                         1.756373\n",
       "srch_destination_type_id_new_1        1.372191\n",
       "srch_destination_type_id_new_6        1.315882\n",
       "user_location_country_new_other       1.183446\n",
       "hotel_market_new_628                  1.004578\n",
       "srch_destination_type_id_new_3        0.928875\n",
       "user_location_country_new_66          0.903490\n",
       "srch_destination_type_id_new_5        0.827761\n",
       "srch_destination_type_id_new_other    0.814596\n",
       "hotel_continent_4                     0.675094\n",
       "hotel_market_new_other                0.671662\n",
       "hotel_market_new_675                  0.636107\n",
       "hotel_continent_2                     0.584827\n",
       "posa_continent_1                      0.541998\n",
       "user_location_country_new_205         0.528504\n",
       "user_location_country_new_69          0.525148\n",
       "hotel_country_new_50                  0.512906\n",
       "site_name_new_other                   0.466817\n",
       "site_name_new_2                       0.463592\n",
       "posa_continent_3                      0.461026\n",
       "hotel_country_new_other               0.453387\n",
       "posa_continent_2                      0.425315\n",
       "posa_continent_4                      0.396549\n",
       "user_location_country_new_3           0.387097\n",
       "hotel_continent_6                     0.378114\n",
       "hotel_country_new_8                   0.340156\n",
       "hotel_continent_3                     0.296822\n",
       "hotel_market_new_682                  0.272257\n",
       "posa_continent_0                      0.249377\n",
       "hotel_continent_0                     0.166751\n",
       "hotel_country_new_105                 0.157343\n",
       "hotel_continent_5                     0.142883\n",
       "hotel_country_new_198                 0.125178\n",
       "hotel_market_new_19                   0.093853\n",
       "hotel_continent_1                     0.000000"
      ]
     },
     "execution_count": 59,
     "metadata": {},
     "output_type": "execute_result"
    }
   ],
   "source": [
    "importance_0 = pd.DataFrame(\n",
    "    {'Importance':rf_0.feature_importances_*100},\n",
    "    index=X_train.columns)\n",
    "importance_0_sorted = importance_0.sort_values(\n",
    "    by='Importance',axis=0,ascending=False)\n",
    "importance_0_sorted"
   ]
  },
  {
   "cell_type": "code",
   "execution_count": 60,
   "metadata": {},
   "outputs": [
    {
     "data": {
      "image/png": "[encoded data removed]",
      "text/plain": [
       "<Figure size 720x720 with 1 Axes>"
      ]
     },
     "metadata": {
      "needs_background": "light"
     },
     "output_type": "display_data"
    }
   ],
   "source": [
    "importance_0_sorted.plot(kind='barh',color='r',figsize=(10,10))\n",
    "plt.xlabel('Variable Importance')\n",
    "plt.gca().legend_ = None\n",
    "plt.grid()"
   ]
  },
  {
   "cell_type": "markdown",
   "metadata": {},
   "source": [
    "## Initial Single Value Accuracy (untuned RF)"
   ]
  },
  {
   "cell_type": "code",
   "execution_count": 61,
   "metadata": {},
   "outputs": [
    {
     "data": {
      "text/plain": [
       "0.06145333333333333"
      ]
     },
     "execution_count": 61,
     "metadata": {},
     "output_type": "execute_result"
    }
   ],
   "source": [
    "rf_0_predictions = rf_0.predict(X_test)\n",
    "rf_0_accuracy = accuracy_score(y_test,rf_0_predictions)\n",
    "rf_0_accuracy"
   ]
  },
  {
   "cell_type": "markdown",
   "metadata": {},
   "source": [
    "## Initial Map@5 (top 5 values) Accuracy (untuned RF)"
   ]
  },
  {
   "cell_type": "code",
   "execution_count": 62,
   "metadata": {},
   "outputs": [
    {
     "data": {
      "text/plain": [
       "0.21901333333333334"
      ]
     },
     "execution_count": 62,
     "metadata": {},
     "output_type": "execute_result"
    }
   ],
   "source": [
    "rf_probabilities = rf_0.predict_proba(X_test)\n",
    "n = 5\n",
    "top_n_rf_predictions = np.argsort(rf_probabilities)[:,:-n-1:-1]\n",
    "\n",
    "df_rf_predictions = pd.DataFrame(\n",
    "    data=top_n_rf_predictions,\n",
    "    columns=['yhat1','yhat2','yhat3',\n",
    "             'yhat4','yhat5'])\n",
    "df_rf_predictions['y'] = y_test.values\n",
    "df_rf_predictions['is_accurate'] = np.where(\n",
    "    (\n",
    "        (df_rf_predictions['y'] == df_rf_predictions['yhat1']) |\n",
    "        (df_rf_predictions['y'] == df_rf_predictions['yhat2']) |\n",
    "        (df_rf_predictions['y'] == df_rf_predictions['yhat3']) |\n",
    "        (df_rf_predictions['y'] == df_rf_predictions['yhat4']) |\n",
    "        (df_rf_predictions['y'] == df_rf_predictions['yhat5']) \n",
    "    ),1,0)\n",
    "df_rf_predictions[:20]\n",
    "\n",
    "map_at_5_accuracy_rf_0 = sum(\n",
    "    df_rf_predictions.is_accurate)/len(df_rf_predictions)\n",
    "map_at_5_accuracy_rf_0"
   ]
  },
  {
   "cell_type": "markdown",
   "metadata": {},
   "source": [
    "## MAP@5 Evaluation Function"
   ]
  },
  {
   "cell_type": "code",
   "execution_count": 63,
   "metadata": {},
   "outputs": [],
   "source": [
    "# this competition uses the Map@5 function for evaluation\n",
    "# essentially, checking if any of the top 5 predictions for \n",
    "# a cluster is accurate"
   ]
  },
  {
   "cell_type": "code",
   "execution_count": 64,
   "metadata": {},
   "outputs": [],
   "source": [
    "def map_at_5_for_model(model):\n",
    "    # generating top 5 probabilities\n",
    "    model_probabilities = model.predict_proba(X_test)\n",
    "    n = 5\n",
    "    top_n_predictions = np.argsort(model_probabilities)[:,:-n-1:-1]\n",
    "    \n",
    "    # creating dataframe with 5 predictions and test value\n",
    "    df_predictions = pd.DataFrame(\n",
    "    data=top_n_predictions,\n",
    "    columns=['yhat1','yhat2','yhat3',\n",
    "             'yhat4','yhat5'])\n",
    "    df_predictions['y'] = y_test.values\n",
    "    \n",
    "    # checking prediction accuracy\n",
    "    df_predictions['is_accurate'] = np.where(\n",
    "        (\n",
    "            (df_predictions['y'] == df_predictions['yhat1']) |\n",
    "            (df_predictions['y'] == df_predictions['yhat2']) |\n",
    "            (df_predictions['y'] == df_predictions['yhat3']) |\n",
    "            (df_predictions['y'] == df_predictions['yhat4']) |\n",
    "            (df_predictions['y'] == df_predictions['yhat5']) \n",
    "        ),1,0)\n",
    "    \n",
    "    # calculating overall accuracy\n",
    "    map_at_5_accuracy = sum(\n",
    "        df_predictions.is_accurate)/len(df_predictions)\n",
    "    return(map_at_5_accuracy)"
   ]
  },
  {
   "cell_type": "markdown",
   "metadata": {},
   "source": [
    "## Dataframe for model comparison"
   ]
  },
  {
   "cell_type": "code",
   "execution_count": 65,
   "metadata": {},
   "outputs": [],
   "source": [
    "temp_model_dict = {'model': ['untuned RF'],\n",
    "                   'map_at_5_accuracy': [map_at_5_accuracy_rf_0]\n",
    "                  }"
   ]
  },
  {
   "cell_type": "code",
   "execution_count": 66,
   "metadata": {},
   "outputs": [],
   "source": [
    "df_model_comparison = pd.DataFrame(data = temp_model_dict,\n",
    "                                  columns = ['model',\n",
    "                                             'map_at_5_accuracy'])"
   ]
  },
  {
   "cell_type": "markdown",
   "metadata": {},
   "source": [
    "## Logistic Regression "
   ]
  },
  {
   "cell_type": "code",
   "execution_count": 67,
   "metadata": {},
   "outputs": [
    {
     "data": {
      "text/plain": [
       "0.29212"
      ]
     },
     "execution_count": 67,
     "metadata": {},
     "output_type": "execute_result"
    }
   ],
   "source": [
    "lg = LogisticRegression(solver = 'lbfgs',multi_class='multinomial',\n",
    "                        max_iter=10000)\n",
    "\n",
    "lg1 = lg.fit(X_train, y_train)\n",
    "y_pred = lg1.predict(X_test)\n",
    "\n",
    "map_at_5_accuracy_lg = map_at_5_for_model(lg)\n",
    "map_at_5_accuracy_lg"
   ]
  },
  {
   "cell_type": "code",
   "execution_count": 68,
   "metadata": {},
   "outputs": [],
   "source": [
    "temp_model_dict = {'model': 'Logistic Regression',\n",
    "                   'map_at_5_accuracy': map_at_5_accuracy_lg\n",
    "                  }\n",
    "df_model_comparison = df_model_comparison.append(temp_model_dict,\n",
    "                                                 ignore_index=True)"
   ]
  },
  {
   "cell_type": "markdown",
   "metadata": {},
   "source": [
    "## Decision Tree"
   ]
  },
  {
   "cell_type": "code",
   "execution_count": 69,
   "metadata": {},
   "outputs": [
    {
     "name": "stderr",
     "output_type": "stream",
     "text": [
      "//anaconda3/lib/python3.7/site-packages/sklearn/model_selection/_search.py:266: UserWarning: The total space of parameters 32 is smaller than n_iter=40. Running 32 iterations. For exhaustive searches, use GridSearchCV.\n",
      "  % (grid_size, self.n_iter, grid_size), UserWarning)\n"
     ]
    },
    {
     "data": {
      "text/plain": [
       "({'max_features': 9, 'max_depth': 9, 'criterion': 'gini'}, 0.08808571428571428)"
      ]
     },
     "execution_count": 69,
     "metadata": {},
     "output_type": "execute_result"
    }
   ],
   "source": [
    "# parameter tuning\n",
    "param = DecisionTreeClassifier()\n",
    "\n",
    "bestparam={\n",
    "           'criterion':['gini','entropy'],\n",
    "           'max_depth':[3,6,9,12],\n",
    "           'max_features':[3,6,9,12],\n",
    "          }\n",
    "\n",
    "def hypertuning_rscv(param, p_distr, nbr_iter,X,y):\n",
    "    rdmsearch = RandomizedSearchCV(param, \n",
    "                                   param_distributions=p_distr,\n",
    "                                  n_jobs=-1, n_iter=nbr_iter, \n",
    "                                   cv=5)\n",
    "    \n",
    "    #CV = Cross-Validation ( here using Stratified KFold CV)\n",
    "    rdmsearch.fit(X,y)\n",
    "    ht_params = rdmsearch.best_params_\n",
    "    ht_score = rdmsearch.best_score_\n",
    "    return ht_params, ht_score\n",
    "\n",
    "hypertuning_rscv(param,bestparam , 40, X_train, y_train)"
   ]
  },
  {
   "cell_type": "code",
   "execution_count": 70,
   "metadata": {},
   "outputs": [
    {
     "data": {
      "text/plain": [
       "0.08648"
      ]
     },
     "execution_count": 70,
     "metadata": {},
     "output_type": "execute_result"
    }
   ],
   "source": [
    "tree = DecisionTreeClassifier(max_depth=9, \n",
    "                              criterion='entropy', \n",
    "                              max_features=12)\n",
    "tree = tree.fit(X_train, y_train)\n",
    "\n",
    "y_pred = tree.predict(X_test)\n",
    "dt_accuracy = accuracy_score(y_pred,y_test)\n",
    "dt_accuracy"
   ]
  },
  {
   "cell_type": "code",
   "execution_count": 71,
   "metadata": {
    "scrolled": true
   },
   "outputs": [
    {
     "data": {
      "text/plain": [
       "0.28130666666666665"
      ]
     },
     "execution_count": 71,
     "metadata": {},
     "output_type": "execute_result"
    }
   ],
   "source": [
    "map_at_5_accuracy_dt = map_at_5_for_model(tree)\n",
    "map_at_5_accuracy_dt"
   ]
  },
  {
   "cell_type": "code",
   "execution_count": 72,
   "metadata": {},
   "outputs": [],
   "source": [
    "temp_model_dict = {'model': 'Decision Tree',\n",
    "                   'map_at_5_accuracy': map_at_5_accuracy_dt\n",
    "                  }\n",
    "df_model_comparison = df_model_comparison.append(temp_model_dict,\n",
    "                                                 ignore_index=True)"
   ]
  },
  {
   "cell_type": "markdown",
   "metadata": {},
   "source": [
    "## Random Forest (with Tuned Parameters)"
   ]
  },
  {
   "cell_type": "code",
   "execution_count": 73,
   "metadata": {},
   "outputs": [],
   "source": [
    "n_estimators = [100,500]\n",
    "param_grid = dict(n_estimators = n_estimators)\n",
    "kfold = StratifiedKFold(n_splits = 2, shuffle=True, \n",
    "                        random_state = 1)\n",
    "model = RandomForestClassifier()\n",
    "grid_search = GridSearchCV(model,param_grid,\n",
    "                           scoring = 'neg_log_loss',\n",
    "                           cv=kfold)\n",
    "grid_result = grid_search.fit(X_train,y_train)"
   ]
  },
  {
   "cell_type": "code",
   "execution_count": 74,
   "metadata": {},
   "outputs": [
    {
     "data": {
      "text/html": [
       "<div>\n",
       "<style scoped>\n",
       "    .dataframe tbody tr th:only-of-type {\n",
       "        vertical-align: middle;\n",
       "    }\n",
       "\n",
       "    .dataframe tbody tr th {\n",
       "        vertical-align: top;\n",
       "    }\n",
       "\n",
       "    .dataframe thead th {\n",
       "        text-align: right;\n",
       "    }\n",
       "</style>\n",
       "<table border=\"1\" class=\"dataframe\">\n",
       "  <thead>\n",
       "    <tr style=\"text-align: right;\">\n",
       "      <th></th>\n",
       "      <th>params</th>\n",
       "      <th>mean test score</th>\n",
       "    </tr>\n",
       "  </thead>\n",
       "  <tbody>\n",
       "    <tr>\n",
       "      <th>0</th>\n",
       "      <td>{'n_estimators': 100}</td>\n",
       "      <td>-18.558545</td>\n",
       "    </tr>\n",
       "    <tr>\n",
       "      <th>1</th>\n",
       "      <td>{'n_estimators': 500}</td>\n",
       "      <td>-15.996961</td>\n",
       "    </tr>\n",
       "  </tbody>\n",
       "</table>\n",
       "</div>"
      ],
      "text/plain": [
       "                  params  mean test score\n",
       "0  {'n_estimators': 100}       -18.558545\n",
       "1  {'n_estimators': 500}       -15.996961"
      ]
     },
     "execution_count": 74,
     "metadata": {},
     "output_type": "execute_result"
    }
   ],
   "source": [
    "means = grid_result.cv_results_['mean_test_score']\n",
    "params = grid_result.cv_results_['params']\n",
    "df_rf = pd.DataFrame()\n",
    "df_rf['params'] = params\n",
    "df_rf['mean test score'] = means\n",
    "df_rf[:2]"
   ]
  },
  {
   "cell_type": "code",
   "execution_count": 75,
   "metadata": {},
   "outputs": [
    {
     "data": {
      "text/plain": [
       "-15.996961351880545"
      ]
     },
     "execution_count": 75,
     "metadata": {},
     "output_type": "execute_result"
    }
   ],
   "source": [
    "grid_result.best_score_"
   ]
  },
  {
   "cell_type": "code",
   "execution_count": 76,
   "metadata": {},
   "outputs": [
    {
     "data": {
      "text/plain": [
       "{'n_estimators': 500}"
      ]
     },
     "execution_count": 76,
     "metadata": {},
     "output_type": "execute_result"
    }
   ],
   "source": [
    "grid_result.best_params_"
   ]
  },
  {
   "cell_type": "code",
   "execution_count": 77,
   "metadata": {},
   "outputs": [
    {
     "data": {
      "text/plain": [
       "0.061893333333333335"
      ]
     },
     "execution_count": 77,
     "metadata": {},
     "output_type": "execute_result"
    }
   ],
   "source": [
    "rf_1 = grid_result.best_estimator_\n",
    "rf_1_predictions = rf_1.predict(X_test)\n",
    "rf_1_accuracy = accuracy_score(y_test,rf_1_predictions)\n",
    "rf_1_accuracy"
   ]
  },
  {
   "cell_type": "code",
   "execution_count": 78,
   "metadata": {},
   "outputs": [
    {
     "data": {
      "text/plain": [
       "0.2214"
      ]
     },
     "execution_count": 78,
     "metadata": {},
     "output_type": "execute_result"
    }
   ],
   "source": [
    "map_at_5_accuracy_rf_1 = map_at_5_for_model(rf_1)\n",
    "map_at_5_accuracy_rf_1"
   ]
  },
  {
   "cell_type": "code",
   "execution_count": 79,
   "metadata": {},
   "outputs": [],
   "source": [
    "temp_model_dict = {'model': 'tuned RF',\n",
    "                   'map_at_5_accuracy': map_at_5_accuracy_rf_1\n",
    "                  }\n",
    "df_model_comparison = df_model_comparison.append(temp_model_dict,\n",
    "                                                 ignore_index=True)"
   ]
  },
  {
   "cell_type": "markdown",
   "metadata": {},
   "source": [
    "## XGBoost"
   ]
  },
  {
   "cell_type": "code",
   "execution_count": 80,
   "metadata": {},
   "outputs": [],
   "source": [
    "rates = [0.01,0.3]\n",
    "\n",
    "param_grid = dict(learning_rate = rates)\n",
    "kfold = StratifiedKFold(n_splits = 2, shuffle=True, \n",
    "                        random_state = 1)"
   ]
  },
  {
   "cell_type": "code",
   "execution_count": 81,
   "metadata": {},
   "outputs": [],
   "source": [
    "# low number os trees was used because computer could not handle more\n",
    "model = XGBClassifier(n_estimators=10)\n",
    "grid_search = GridSearchCV(model,param_grid,\n",
    "                           scoring = 'neg_log_loss',\n",
    "                           cv=kfold)\n",
    "grid_result = grid_search.fit(X_train,y_train)"
   ]
  },
  {
   "cell_type": "code",
   "execution_count": 82,
   "metadata": {},
   "outputs": [
    {
     "data": {
      "text/plain": [
       "{'learning_rate': 0.3}"
      ]
     },
     "execution_count": 82,
     "metadata": {},
     "output_type": "execute_result"
    }
   ],
   "source": [
    "grid_result.best_params_"
   ]
  },
  {
   "cell_type": "code",
   "execution_count": 83,
   "metadata": {},
   "outputs": [],
   "source": [
    "xgb = grid_result.best_estimator_"
   ]
  },
  {
   "cell_type": "code",
   "execution_count": 84,
   "metadata": {},
   "outputs": [
    {
     "data": {
      "text/plain": [
       "0.2912266666666667"
      ]
     },
     "execution_count": 84,
     "metadata": {},
     "output_type": "execute_result"
    }
   ],
   "source": [
    "map_at_5_accuracy_xgb = map_at_5_for_model(xgb)\n",
    "map_at_5_accuracy_xgb"
   ]
  },
  {
   "cell_type": "code",
   "execution_count": 85,
   "metadata": {},
   "outputs": [],
   "source": [
    "temp_model_dict = {'model': 'XGBoost',\n",
    "                   'map_at_5_accuracy': map_at_5_accuracy_xgb\n",
    "                  }\n",
    "df_model_comparison = df_model_comparison.append(temp_model_dict,\n",
    "                                                 ignore_index=True)"
   ]
  },
  {
   "cell_type": "markdown",
   "metadata": {},
   "source": [
    "## KNN Classifier"
   ]
  },
  {
   "cell_type": "code",
   "execution_count": 86,
   "metadata": {},
   "outputs": [],
   "source": [
    "n_neighbors = [21,71,121]\n",
    "param_grid = dict(n_neighbors = n_neighbors)\n",
    "kfold = StratifiedKFold(n_splits = 2, shuffle=True, \n",
    "                        random_state = 1)\n",
    "model = KNeighborsClassifier()\n",
    "grid_search = GridSearchCV(model,param_grid,\n",
    "                           scoring = 'neg_log_loss',\n",
    "                           cv=kfold)\n",
    "grid_result = grid_search.fit(X_train,y_train)"
   ]
  },
  {
   "cell_type": "code",
   "execution_count": 87,
   "metadata": {},
   "outputs": [
    {
     "data": {
      "text/plain": [
       "{'n_neighbors': 121}"
      ]
     },
     "execution_count": 87,
     "metadata": {},
     "output_type": "execute_result"
    }
   ],
   "source": [
    "grid_result.best_params_"
   ]
  },
  {
   "cell_type": "code",
   "execution_count": 88,
   "metadata": {},
   "outputs": [
    {
     "data": {
      "text/plain": [
       "0.08989333333333334"
      ]
     },
     "execution_count": 88,
     "metadata": {},
     "output_type": "execute_result"
    }
   ],
   "source": [
    "knn = grid_result.best_estimator_\n",
    "knn_predictions = xgb.predict(X_test)\n",
    "knn_accuracy = accuracy_score(y_test,knn_predictions)\n",
    "knn_accuracy"
   ]
  },
  {
   "cell_type": "code",
   "execution_count": 89,
   "metadata": {},
   "outputs": [
    {
     "data": {
      "text/plain": [
       "0.2636266666666667"
      ]
     },
     "execution_count": 89,
     "metadata": {},
     "output_type": "execute_result"
    }
   ],
   "source": [
    "map_at_5_accuracy_knn = map_at_5_for_model(knn)\n",
    "map_at_5_accuracy_knn"
   ]
  },
  {
   "cell_type": "code",
   "execution_count": 90,
   "metadata": {},
   "outputs": [],
   "source": [
    "temp_model_dict = {'model': 'KNN',\n",
    "                   'map_at_5_accuracy': map_at_5_accuracy_knn\n",
    "                  }\n",
    "df_model_comparison = df_model_comparison.append(temp_model_dict,\n",
    "                                                 ignore_index=True)"
   ]
  },
  {
   "cell_type": "markdown",
   "metadata": {},
   "source": [
    "## Naive Bayes"
   ]
  },
  {
   "cell_type": "code",
   "execution_count": 91,
   "metadata": {},
   "outputs": [
    {
     "data": {
      "text/plain": [
       "GaussianNB(priors=None, var_smoothing=1e-09)"
      ]
     },
     "execution_count": 91,
     "metadata": {},
     "output_type": "execute_result"
    }
   ],
   "source": [
    "gnb = GaussianNB()\n",
    "gnb.fit(X_train,y_train)"
   ]
  },
  {
   "cell_type": "code",
   "execution_count": 92,
   "metadata": {},
   "outputs": [
    {
     "data": {
      "text/plain": [
       "0.16714666666666667"
      ]
     },
     "execution_count": 92,
     "metadata": {},
     "output_type": "execute_result"
    }
   ],
   "source": [
    "map_at_5_accuracy_gnb = map_at_5_for_model(gnb)\n",
    "map_at_5_accuracy_gnb"
   ]
  },
  {
   "cell_type": "markdown",
   "metadata": {},
   "source": [
    "temp_model_dict = {'model': 'Gaussian Naive Bayes',\n",
    "                   'map_at_5_accuracy': map_at_5_accuracy_gnb\n",
    "                  }\n",
    "df_model_comparison = df_model_comparison.append(temp_model_dict,\n",
    "                                                 ignore_index=True)"
   ]
  },
  {
   "cell_type": "markdown",
   "metadata": {},
   "source": [
    "## Support Vector Classifiers"
   ]
  },
  {
   "cell_type": "code",
   "execution_count": null,
   "metadata": {},
   "outputs": [],
   "source": [
    "# We tried to run a SVC model\n",
    "# However it was too computational heavy for our laptop\n",
    "# We also ran into issues with Google Collab (not enough RAM)"
   ]
  },
  {
   "cell_type": "code",
   "execution_count": null,
   "metadata": {},
   "outputs": [],
   "source": [
    "kernel = ['rbf','sigmoid']\n",
    "param_grid = dict(kernel = kernel)\n",
    "kfold = StratifiedKFold(n_splits = 2, shuffle=True, \n",
    "                        random_state = 1)\n",
    "model = SVC(verbose=2)\n",
    "grid_search = GridSearchCV(model,param_grid,\n",
    "                           scoring = 'neg_log_loss',\n",
    "                           cv=kfold,verbose=2)\n",
    "grid_result = grid_search.fit(X_train,y_train)\n",
    "grid_result.best_params_\n",
    "svc = grid_result.best_estimator_\n",
    "svc_predictions = xgb.predict(X_test)\n",
    "svc_accuracy = accuracy_score(y_test,svc_predictions)\n",
    "svc_accuracy"
   ]
  },
  {
   "cell_type": "markdown",
   "metadata": {},
   "source": [
    "## Neural Networks"
   ]
  },
  {
   "cell_type": "code",
   "execution_count": null,
   "metadata": {},
   "outputs": [],
   "source": [
    "# We tried to run a neural network model\n",
    "# However it was too computational heavy for our laptop\n",
    "# We also ran into issues with Google Collab (not enough RAM)"
   ]
  },
  {
   "cell_type": "code",
   "execution_count": null,
   "metadata": {},
   "outputs": [],
   "source": [
    "y = keras.utils.np_utils.to_categorical(y)\n",
    "labelencoder_y_1 = LabelEncoder()\n",
    "y = labelencoder_y_1.fit_transform(y)\n",
    "\n",
    "X_train, X_test, y_train, y_test = train_test_split(X, \n",
    "                                                    y, \n",
    "                                                    test_size=0.3, \n",
    "                                                    random_state=42)\n",
    "\n",
    "X_train = keras.utils.normalize(X_train, axis=1)  \n",
    "X_test = keras.utils.normalize(X_test, axis=1)\n",
    "\n",
    "model = Sequential()\n",
    "model.add(Dense(512, activation='relu', input_dim=18))\n",
    "model.add(Dropout(0.25))\n",
    "model.add(Dense(256 , activation='relu'))\n",
    "model.add(Dropout(0.25))\n",
    "model.add(Dense(256 , activation='relu'))\n",
    "model.add(Dropout(0.25))\n",
    "model.add(Dense(128, activation='relu'))\n",
    "model.add(Dropout(0.25))\n",
    "model.add(Dense(64, activation='relu'))\n",
    "model.add(Dropout(0.25))\n",
    "model.add(Dense(64, activation='relu'))\n",
    "model.add(Dropout(0.25))\n",
    "# model.add(Dense(64, activation='relu'))\n",
    "# model.add(Dropout(0.4))\n",
    "model.add(Dense(32, activation='relu'))\n",
    "# model.add(Dropout(0.25))\n",
    "model.add(Dense(100, activation='softmax'))\n",
    "\n",
    "model.compile(optimizer='adam',\n",
    "              loss='categorical_crossentropy',\n",
    "              metrics=['accuracy'])\n",
    "\n",
    "# simple early stopping\n",
    "es = EarlyStopping(monitor='val_acc', mode='max', \n",
    "                   verbose=1, patience=50)\n",
    "\n",
    "his = model.fit(X_train, y_train,  epochs=500, \n",
    "                batch_size=128, callbacks=[es])"
   ]
  },
  {
   "cell_type": "markdown",
   "metadata": {},
   "source": [
    "## Selecting Best Model"
   ]
  },
  {
   "cell_type": "code",
   "execution_count": 94,
   "metadata": {},
   "outputs": [
    {
     "data": {
      "text/html": [
       "<div>\n",
       "<style scoped>\n",
       "    .dataframe tbody tr th:only-of-type {\n",
       "        vertical-align: middle;\n",
       "    }\n",
       "\n",
       "    .dataframe tbody tr th {\n",
       "        vertical-align: top;\n",
       "    }\n",
       "\n",
       "    .dataframe thead th {\n",
       "        text-align: right;\n",
       "    }\n",
       "</style>\n",
       "<table border=\"1\" class=\"dataframe\">\n",
       "  <thead>\n",
       "    <tr style=\"text-align: right;\">\n",
       "      <th></th>\n",
       "      <th>model</th>\n",
       "      <th>map_at_5_accuracy</th>\n",
       "    </tr>\n",
       "  </thead>\n",
       "  <tbody>\n",
       "    <tr>\n",
       "      <th>0</th>\n",
       "      <td>untuned RF</td>\n",
       "      <td>0.219013</td>\n",
       "    </tr>\n",
       "    <tr>\n",
       "      <th>1</th>\n",
       "      <td>Logistic Regression</td>\n",
       "      <td>0.292120</td>\n",
       "    </tr>\n",
       "    <tr>\n",
       "      <th>2</th>\n",
       "      <td>Decision Tree</td>\n",
       "      <td>0.281307</td>\n",
       "    </tr>\n",
       "    <tr>\n",
       "      <th>3</th>\n",
       "      <td>tuned RF</td>\n",
       "      <td>0.221400</td>\n",
       "    </tr>\n",
       "    <tr>\n",
       "      <th>4</th>\n",
       "      <td>XGBoost</td>\n",
       "      <td>0.291227</td>\n",
       "    </tr>\n",
       "    <tr>\n",
       "      <th>5</th>\n",
       "      <td>KNN</td>\n",
       "      <td>0.263627</td>\n",
       "    </tr>\n",
       "    <tr>\n",
       "      <th>6</th>\n",
       "      <td>Gaussian Naive Bayes</td>\n",
       "      <td>0.167147</td>\n",
       "    </tr>\n",
       "  </tbody>\n",
       "</table>\n",
       "</div>"
      ],
      "text/plain": [
       "                  model  map_at_5_accuracy\n",
       "0            untuned RF           0.219013\n",
       "1   Logistic Regression           0.292120\n",
       "2         Decision Tree           0.281307\n",
       "3              tuned RF           0.221400\n",
       "4               XGBoost           0.291227\n",
       "5                   KNN           0.263627\n",
       "6  Gaussian Naive Bayes           0.167147"
      ]
     },
     "execution_count": 94,
     "metadata": {},
     "output_type": "execute_result"
    }
   ],
   "source": [
    "df_model_comparison"
   ]
  },
  {
   "cell_type": "code",
   "execution_count": 95,
   "metadata": {},
   "outputs": [],
   "source": [
    "# Best model is Logistic Regression (MAP@5 of 29.3%)"
   ]
  },
  {
   "cell_type": "markdown",
   "metadata": {},
   "source": [
    "## Reading Kaggle Submission (Test Set)"
   ]
  },
  {
   "cell_type": "code",
   "execution_count": 96,
   "metadata": {},
   "outputs": [],
   "source": [
    "df = pd.read_csv(\n",
    "    'expedia-hotel-recommendations/test.csv')"
   ]
  },
  {
   "cell_type": "markdown",
   "metadata": {},
   "source": [
    "## Processing Kaggle Test Set "
   ]
  },
  {
   "cell_type": "code",
   "execution_count": 97,
   "metadata": {},
   "outputs": [
    {
     "name": "stderr",
     "output_type": "stream",
     "text": [
      "//anaconda3/lib/python3.7/site-packages/ipykernel_launcher.py:6: FutureWarning: Passing integers to fillna is deprecated, will raise a TypeError in a future version.  To retain the old behavior, pass pd.Timedelta(seconds=n) instead.\n",
      "  \n"
     ]
    }
   ],
   "source": [
    "df.srch_ci = pd.to_datetime(df.srch_ci,format = '%Y-%m-%d',\n",
    "                           errors='coerce')\n",
    "df.srch_co = pd.to_datetime(df.srch_co,format = '%Y-%m-%d',\n",
    "                           errors='coerce')\n",
    "temp_book_period = (df.srch_co - df.srch_ci)\n",
    "temp_book_period = temp_book_period.fillna(0)\n",
    "df['book_period'] = temp_book_period.dt.days.astype('int16')"
   ]
  },
  {
   "cell_type": "code",
   "execution_count": 98,
   "metadata": {},
   "outputs": [],
   "source": [
    "df.site_name = df.site_name.astype('category')\n",
    "df.posa_continent = df.posa_continent.astype('category')\n",
    "df.user_location_country = df.user_location_country.astype(\n",
    "    'category')\n",
    "df.user_location_region = df.user_location_region.astype('category')\n",
    "df.user_location_city = df.user_location_city.astype('category')\n",
    "df.channel = df.channel.astype('category')\n",
    "df.hotel_continent = df.hotel_continent.astype('category')\n",
    "df.hotel_country = df.hotel_country.astype('category')\n",
    "df.hotel_market = df.hotel_market.astype('category')\n",
    "df.srch_destination_id = df.srch_destination_id.astype('category')\n",
    "df.srch_destination_type_id = df.srch_destination_type_id.astype(\n",
    "    'category')"
   ]
  },
  {
   "cell_type": "code",
   "execution_count": 99,
   "metadata": {},
   "outputs": [],
   "source": [
    "df['site_name_new'] = df[\n",
    "    'site_name'].apply(\n",
    "    lambda i: i if i in [2] else 'other')\n",
    "\n",
    "df['user_location_country_new'] = df[\n",
    "    'user_location_country'].apply(\n",
    "    lambda i: i if i in [66,205,3,69] else 'other')\n",
    "\n",
    "df['channel_new'] = df[\n",
    "    'channel'].apply(\n",
    "    lambda i: i if i in [9,0,1,2] else 'other')\n",
    "\n",
    "df['srch_destination_type_id_new'] = df[\n",
    "    'srch_destination_type_id'].apply(\n",
    "    lambda i: i if i in [1,6,3,5] else 'other')\n",
    "\n",
    "df['hotel_country_new'] = df[\n",
    "    'hotel_country'].apply(\n",
    "    lambda i: i if i in [50,8,198,105] else 'other')\n",
    "\n",
    "df['hotel_market_new'] = df[\n",
    "    'hotel_market'].apply(\n",
    "    lambda i: i if i in [628,675,682,19] else 'other')"
   ]
  },
  {
   "cell_type": "code",
   "execution_count": 100,
   "metadata": {},
   "outputs": [],
   "source": [
    "cols_to_drop = ['user_id','orig_destination_distance',\n",
    "               'date_time','srch_co','srch_ci',\n",
    "               'site_name','user_location_country',\n",
    "                'user_location_city','user_location_region',\n",
    "               'channel','srch_destination_id',\n",
    "                'srch_destination_type_id','hotel_country',\n",
    "                'hotel_market','id']\n",
    "df1 = df.drop(columns=cols_to_drop)"
   ]
  },
  {
   "cell_type": "code",
   "execution_count": 101,
   "metadata": {},
   "outputs": [],
   "source": [
    "cols_to_dummy = ['posa_continent','hotel_continent','site_name_new',\n",
    "                'user_location_country_new','channel_new',\n",
    "                 'srch_destination_type_id_new',\n",
    "                 'hotel_country_new','hotel_market_new'\n",
    "                ]\n",
    "df2 = pd.get_dummies(df1,columns=cols_to_dummy)"
   ]
  },
  {
   "cell_type": "code",
   "execution_count": 112,
   "metadata": {},
   "outputs": [],
   "source": [
    "df2[numeric_cols] = scaler.transform(df2[numeric_cols])"
   ]
  },
  {
   "cell_type": "code",
   "execution_count": 148,
   "metadata": {},
   "outputs": [],
   "source": [
    "df_test_probabilities = lg1.predict_proba(df2)\n",
    "n = 5\n",
    "top_n_df_predictions = np.argsort(\n",
    "    df_test_probabilities)[:,:-n-1:-1]\n",
    "\n",
    "df_test_predictions = pd.DataFrame(\n",
    "    data=top_n_df_predictions,\n",
    "    columns=['yhat1','yhat2','yhat3',\n",
    "             'yhat4','yhat5'])"
   ]
  },
  {
   "cell_type": "markdown",
   "metadata": {},
   "source": [
    "## Kaggle Submision csv"
   ]
  },
  {
   "cell_type": "code",
   "execution_count": 152,
   "metadata": {},
   "outputs": [],
   "source": [
    "df_test_predictions['id'] = df['id']\n",
    "df_test_predictions[\n",
    "    'hotel_cluster'] = df_test_predictions.yhat1.map(str) +\\\n",
    "    \" \" + df_test_predictions.yhat2.map(str) +\\\n",
    "    \" \" + df_test_predictions.yhat3.map(str) +\\\n",
    "    \" \" + df_test_predictions.yhat4.map(str) +\\\n",
    "    \" \" + df_test_predictions.yhat5.map(str)"
   ]
  },
  {
   "cell_type": "code",
   "execution_count": 153,
   "metadata": {},
   "outputs": [],
   "source": [
    "df_submission = df_test_predictions.drop(\n",
    "    columns=['yhat1','yhat2','yhat3','yhat4','yhat5'])"
   ]
  },
  {
   "cell_type": "code",
   "execution_count": 156,
   "metadata": {},
   "outputs": [],
   "source": [
    "df_submission.to_csv('kaggle_submission.csv',index=False)"
   ]
  }
 ],
 "metadata": {
  "kernelspec": {
   "display_name": "Python 3",
   "language": "python",
   "name": "python3"
  },
  "language_info": {
   "codemirror_mode": {
    "name": "ipython",
    "version": 3
   },
   "file_extension": ".py",
   "mimetype": "text/x-python",
   "name": "python",
   "nbconvert_exporter": "python",
   "pygments_lexer": "ipython3",
   "version": "3.7.3"
  },
  "varInspector": {
   "cols": {
    "lenName": 16,
    "lenType": 16,
    "lenVar": 40
   },
   "kernels_config": {
    "python": {
     "delete_cmd_postfix": "",
     "delete_cmd_prefix": "del ",
     "library": "var_list.py",
     "varRefreshCmd": "print(var_dic_list())"
    },
    "r": {
     "delete_cmd_postfix": ") ",
     "delete_cmd_prefix": "rm(",
     "library": "var_list.r",
     "varRefreshCmd": "cat(var_dic_list()) "
    }
   },
   "position": {
    "height": "487px",
    "left": "739px",
    "right": "20px",
    "top": "83px",
    "width": "536px"
   },
   "types_to_exclude": [
    "module",
    "function",
    "builtin_function_or_method",
    "instance",
    "_Feature"
   ],
   "window_display": false
  }
 },
 "nbformat": 4,
 "nbformat_minor": 2
}
